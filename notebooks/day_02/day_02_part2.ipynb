{
 "cells": [
  {
   "cell_type": "markdown",
   "metadata": {},
   "source": [
    "## Great, now that we discussed a little let's continue"
   ]
  },
  {
   "cell_type": "markdown",
   "metadata": {},
   "source": [
    "Given that the current approach utilized by the authors lacks reproducibility, we will explore an alternative method by leveraging nf-core pipelines for data analysis.\n",
    "\n",
    "Please explain, how we will achieve reproducibility for the course  with this approach.\n"
   ]
  },
  {
   "cell_type": "markdown",
   "metadata": {},
   "source": [
    "Methods section very sparse. No version, information missing, even if we have the data, we would still lack information on how data was processed exactly. By using a standardized pipeline for anaylsis with specified and chosable parameters, we can ensure that with identical input files the final output will be identical, thus reproducible.\n",
    "\n",
    "Example: Write config files for your nextflow pipelines to specify inputs, etc."
   ]
  },
  {
   "cell_type": "markdown",
   "metadata": {},
   "source": [
    "You have successfully downloaded 2 of the fastq files we will use in our study.\n",
    "\n",
    "What is the next step if we want to first have a count table and check the quality of our fastq files? What is the pipeline called to do so?"
   ]
  },
  {
   "cell_type": "markdown",
   "metadata": {},
   "source": [
    "Use a rnaseq pipeline for full anaylsis from raw read files to count tables. Using nf-core we can choose nf-core/rnaseq pipeline for instance. "
   ]
  },
  {
   "cell_type": "markdown",
   "metadata": {},
   "source": [
    "Analyze the 2 files using an nf-core pipeline.\n",
    "\n",
    "What does this pipeline do?\n",
    "\n",
    "Which are the main tools that will be used in the pipeline?"
   ]
  },
  {
   "cell_type": "markdown",
   "metadata": {},
   "source": [
    "The rnaseq pipeline consists of the following basic stages:\n",
    "1. Pre-processing (quality control of fastqc files and adapter trimming)\n",
    "2. Genome alignment and quantification (at genome level)\n",
    "3. Pseudo alignment and quantification (at e.g. transcriptome level -> less resource intensive + faster)\n",
    "4. Post processing (Normalization etc)\n",
    "5. Final QC (Aggregation of all quality contorls)\n",
    "\n",
    "The main tools are:\n",
    "- FastQC\n",
    "- TrimGalore\n",
    "- STAR/HISAT2/Salmon2/Kallisto\n",
    "- SAMtools\n",
    "- BEDtools\n",
    "- DESeq2\n",
    "- Kraken2\n",
    "- MultiQC"
   ]
  },
  {
   "cell_type": "markdown",
   "metadata": {},
   "source": [
    "As all other nf-core pipelines, the chosen pipeline takes in a samplesheet as input.\n",
    "\n",
    "Use Python and pandas to create the samplesheet for your 2 samples. Feel free to make use of the table you created earlier today.\n",
    "\n",
    "Choose your sample names wisely, they must be the connection of the results to the metadata. If you can't find the sample in the metadata later, the analysis was useless."
   ]
  },
  {
   "cell_type": "code",
   "execution_count": 10,
   "metadata": {},
   "outputs": [
    {
     "data": {
      "text/html": [
       "<div>\n",
       "<style scoped>\n",
       "    .dataframe tbody tr th:only-of-type {\n",
       "        vertical-align: middle;\n",
       "    }\n",
       "\n",
       "    .dataframe tbody tr th {\n",
       "        vertical-align: top;\n",
       "    }\n",
       "\n",
       "    .dataframe thead th {\n",
       "        text-align: right;\n",
       "    }\n",
       "</style>\n",
       "<table border=\"1\" class=\"dataframe\">\n",
       "  <thead>\n",
       "    <tr style=\"text-align: right;\">\n",
       "      <th></th>\n",
       "      <th>sample</th>\n",
       "      <th>fastq_1</th>\n",
       "      <th>fastq_2</th>\n",
       "      <th>strandedness</th>\n",
       "    </tr>\n",
       "  </thead>\n",
       "  <tbody>\n",
       "    <tr>\n",
       "      <th>0</th>\n",
       "      <td>SRX19144486</td>\n",
       "      <td>./SRFetch_results/fastq/SRX19144486_SRR2319551...</td>\n",
       "      <td>./SRFetch_results/fastq/SRX19144486_SRR2319551...</td>\n",
       "      <td>auto</td>\n",
       "    </tr>\n",
       "    <tr>\n",
       "      <th>1</th>\n",
       "      <td>SRX19144488</td>\n",
       "      <td>./SRFetch_results/fastq/SRX19144488_SRR2319551...</td>\n",
       "      <td>./SRFetch_results/fastq/SRX19144488_SRR2319551...</td>\n",
       "      <td>auto</td>\n",
       "    </tr>\n",
       "  </tbody>\n",
       "</table>\n",
       "</div>"
      ],
      "text/plain": [
       "        sample                                            fastq_1  \\\n",
       "0  SRX19144486  ./SRFetch_results/fastq/SRX19144486_SRR2319551...   \n",
       "1  SRX19144488  ./SRFetch_results/fastq/SRX19144488_SRR2319551...   \n",
       "\n",
       "                                             fastq_2 strandedness  \n",
       "0  ./SRFetch_results/fastq/SRX19144486_SRR2319551...         auto  \n",
       "1  ./SRFetch_results/fastq/SRX19144488_SRR2319551...         auto  "
      ]
     },
     "execution_count": 10,
     "metadata": {},
     "output_type": "execute_result"
    }
   ],
   "source": [
    "# Import packages\n",
    "import pandas as pd\n",
    "\n",
    "# post here the command you used to run nf-core/rnaseq\n",
    "samplesheet = pd.read_csv(\"/Users/nilswaffenschmidt/waffenschmidt/notebooks/day_02/SRFetch_results/samplesheet/samplesheet.csv\")\n",
    "samplesheet = samplesheet.iloc[:,0:3]\n",
    "samplesheet[\"strandedness\"] = \"auto\"\n",
    "samplesheet"
   ]
  },
  {
   "cell_type": "markdown",
   "metadata": {},
   "source": [
    "Explain all the parameters you set and why you set them in this way.\n",
    "\n"
   ]
  },
  {
   "cell_type": "markdown",
   "metadata": {},
   "source": [
    "- -profile docker, arm64 (tried to use docker and mac m1 specific options)\n",
    "- --input ... (manually set input path)\n",
    "- --output ... (manually set output path)\n",
    "- --genome GRCm38 (respective standard mouse genome is downloaded by pipeline and used automatically)"
   ]
  },
  {
   "cell_type": "markdown",
   "metadata": {},
   "source": [
    "## Browsing the results"
   ]
  },
  {
   "cell_type": "markdown",
   "metadata": {},
   "source": [
    "$\\rightarrow$ Pipeline didnt run through due to issues with internet/simultaneous usage..."
   ]
  },
  {
   "cell_type": "markdown",
   "metadata": {},
   "source": [
    "How did the pipeline perform?"
   ]
  },
  {
   "cell_type": "markdown",
   "metadata": {},
   "source": []
  },
  {
   "cell_type": "markdown",
   "metadata": {},
   "source": [
    "Explain the quality control steps. Are you happy with the quality and why. If not, why not.\n",
    "Please give additional information on : \n",
    "- ribosomal rRNA\n",
    "- Duplication\n",
    "- GC content\n",
    "\n",
    "What are the possible steps that could lead to poorer results?"
   ]
  },
  {
   "cell_type": "markdown",
   "metadata": {},
   "source": []
  },
  {
   "cell_type": "markdown",
   "metadata": {},
   "source": [
    "Would you exclude any samples? If yes, which and why?"
   ]
  },
  {
   "cell_type": "markdown",
   "metadata": {},
   "source": [
    "We might exclude outlier."
   ]
  },
  {
   "cell_type": "markdown",
   "metadata": {},
   "source": [
    "What would you now do to continue the experiment? What are the scientists trying to figure out? Which packages on R or python would you use?"
   ]
  },
  {
   "cell_type": "markdown",
   "metadata": {},
   "source": []
  },
  {
   "cell_type": "markdown",
   "metadata": {},
   "source": []
  }
 ],
 "metadata": {
  "kernelspec": {
   "display_name": "compWorkflows",
   "language": "python",
   "name": "python3"
  },
  "language_info": {
   "codemirror_mode": {
    "name": "ipython",
    "version": 3
   },
   "file_extension": ".py",
   "mimetype": "text/x-python",
   "name": "python",
   "nbconvert_exporter": "python",
   "pygments_lexer": "ipython3",
   "version": "3.13.7"
  }
 },
 "nbformat": 4,
 "nbformat_minor": 2
}
