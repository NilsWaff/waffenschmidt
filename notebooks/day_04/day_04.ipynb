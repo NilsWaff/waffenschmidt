{
 "cells": [
  {
   "cell_type": "markdown",
   "metadata": {},
   "source": [
    "# Day 6 - Nextflow Basics: Introduction to channels and operators"
   ]
  },
  {
   "cell_type": "markdown",
   "metadata": {},
   "source": [
    "Today, we will begin exploring Nextflow, the programming language that powers the advanced nf-core pipelines you worked with last week. Your task is to dive into the core concepts and syntax of Nextflow, understanding how this language enables the development of scalable and reproducible workflows.\n",
    "\n",
    "Nextflow works quite differently from traditional programming languages like Python or Java that you may already be familiar with. To get started, it is essential to understand the foundational concepts that set Nextflow apart."
   ]
  },
  {
   "cell_type": "markdown",
   "metadata": {},
   "source": [
    "### 1. Describe the concept of Workflows, Processes and Channels we deal with in Nextflow"
   ]
  },
  {
   "cell_type": "markdown",
   "metadata": {},
   "source": [
    "Workflows: In Nextflow, a workflow is a function that is specialized for composing processes and dataflow logic (i.e. channels and operators). Top level definition of pipeline specifying how different processes are conncted and how data flows between them through channels.\n",
    "\n",
    "\n",
    "\n",
    "\n",
    "\n",
    "Processes: In Nextflow, a process is a specialized function for executing scripts in a scalable and portable manner. It is the basic unit, executing specified tasks in forms of sripts (python, shell, programs, etc). Processes are containerized to ensure reproducibility. = Steps in the workflow. Can run several in parallel.\n",
    "\n",
    "\n",
    "\n",
    "\n",
    "\n",
    "\n",
    "Channels: Specify how data is passed connecting processes with each other."
   ]
  },
  {
   "cell_type": "markdown",
   "metadata": {},
   "source": [
    "## Introduction to channels\n",
    "\n",
    "Please refer to the file  $\\texttt{channels\\_intro.nf}$ for the next exercises. Then run the code with the respective flag here below. "
   ]
  },
  {
   "cell_type": "code",
   "execution_count": 3,
   "metadata": {},
   "outputs": [
    {
     "name": "stdout",
     "output_type": "stream",
     "text": [
      "\n",
      "\u001b[1m\u001b[38;5;232m\u001b[48;5;43m N E X T F L O W \u001b[0;2m  ~  \u001b[mversion 25.04.7\u001b[m\n",
      "\u001b[K\n",
      "Launching\u001b[35m `channels_intro.nf` \u001b[0;2m[\u001b[0;1;36mspecial_fourier\u001b[0;2m] DSL2 - \u001b[36mrevision: \u001b[0;36mb1743604ad\u001b[m\n",
      "\u001b[K\n",
      "1\n",
      "2\n",
      "3\n",
      "4\n",
      "5\n",
      "6\n",
      "7\n",
      "8\n",
      "9\n",
      "10\n"
     ]
    }
   ],
   "source": [
    "# Task 1 - Create a channel that enumerates the numbers from 1 to 10\n",
    "!nextflow run channels_intro.nf --step 1"
   ]
  },
  {
   "cell_type": "code",
   "execution_count": 5,
   "metadata": {},
   "outputs": [
    {
     "name": "stdout",
     "output_type": "stream",
     "text": [
      "\n",
      "\u001b[1m\u001b[38;5;232m\u001b[48;5;43m N E X T F L O W \u001b[0;2m  ~  \u001b[mversion 25.04.7\u001b[m\n",
      "\u001b[K\n",
      "Launching\u001b[35m `channels_intro.nf` \u001b[0;2m[\u001b[0;1;36mfestering_archimedes\u001b[0;2m] DSL2 - \u001b[36mrevision: \u001b[0;36m1a8ffbd78e\u001b[m\n",
      "\u001b[K\n",
      "A\n",
      "B\n",
      "C\n",
      "D\n",
      "E\n",
      "F\n",
      "G\n",
      "H\n",
      "I\n",
      "J\n",
      "K\n",
      "L\n",
      "M\n",
      "N\n",
      "O\n",
      "P\n",
      "Q\n",
      "R\n",
      "S\n",
      "T\n",
      "U\n",
      "V\n",
      "W\n",
      "X\n",
      "Y\n",
      "Z\n"
     ]
    }
   ],
   "source": [
    "# Task 2 - Create a channel that gives out the entire alphabet\n",
    "!nextflow run channels_intro.nf --step 2"
   ]
  },
  {
   "cell_type": "code",
   "execution_count": 9,
   "metadata": {},
   "outputs": [
    {
     "name": "stdout",
     "output_type": "stream",
     "text": [
      "\n",
      "\u001b[1m\u001b[38;5;232m\u001b[48;5;43m N E X T F L O W \u001b[0;2m  ~  \u001b[mversion 25.04.7\u001b[m\n",
      "\u001b[K\n",
      "Launching\u001b[35m `channels_intro.nf` \u001b[0;2m[\u001b[0;1;36mloquacious_franklin\u001b[0;2m] DSL2 - \u001b[36mrevision: \u001b[0;36m8a9cf3338c\u001b[m\n",
      "\u001b[K\n",
      "/Users/nilswaffenschmidt/waffenschmidt/notebooks/day_04/files_dir/SRR5_2.fq\n",
      "/Users/nilswaffenschmidt/waffenschmidt/notebooks/day_04/files_dir/fastq5_2.fq\n",
      "/Users/nilswaffenschmidt/waffenschmidt/notebooks/day_04/files_dir/file_4.txt\n",
      "/Users/nilswaffenschmidt/waffenschmidt/notebooks/day_04/files_dir/file_5.txt\n",
      "/Users/nilswaffenschmidt/waffenschmidt/notebooks/day_04/files_dir/SRR5_2.fq\n",
      "/Users/nilswaffenschmidt/waffenschmidt/notebooks/day_04/files_dir/file_1.txt\n",
      "/Users/nilswaffenschmidt/waffenschmidt/notebooks/day_04/files_dir/fastq5_2.fq\n",
      "/Users/nilswaffenschmidt/waffenschmidt/notebooks/day_04/files_dir/file_2.txt\n",
      "/Users/nilswaffenschmidt/waffenschmidt/notebooks/day_04/files_dir/file_4.txt\n",
      "/Users/nilswaffenschmidt/waffenschmidt/notebooks/day_04/files_dir/fastq.fq\n",
      "/Users/nilswaffenschmidt/waffenschmidt/notebooks/day_04/files_dir/file_5.txt\n",
      "/Users/nilswaffenschmidt/waffenschmidt/notebooks/day_04/files_dir/fastq4_2.fq\n",
      "/Users/nilswaffenschmidt/waffenschmidt/notebooks/day_04/files_dir/SRR4_2.fq\n",
      "/Users/nilswaffenschmidt/waffenschmidt/notebooks/day_04/files_dir/file_1.txt\n",
      "/Users/nilswaffenschmidt/waffenschmidt/notebooks/day_04/files_dir/file_3.txt\n",
      "/Users/nilswaffenschmidt/waffenschmidt/notebooks/day_04/files_dir/file_2.txt\n",
      "/Users/nilswaffenschmidt/waffenschmidt/notebooks/day_04/files_dir/SRR.fq\n",
      "/Users/nilswaffenschmidt/waffenschmidt/notebooks/day_04/files_dir/SRR3_2.fq\n",
      "/Users/nilswaffenschmidt/waffenschmidt/notebooks/day_04/files_dir/fastq.fq\n",
      "/Users/nilswaffenschmidt/waffenschmidt/notebooks/day_04/files_dir/fastq3_2.fq\n",
      "/Users/nilswaffenschmidt/waffenschmidt/notebooks/day_04/files_dir/fastq4_2.fq\n",
      "/Users/nilswaffenschmidt/waffenschmidt/notebooks/day_04/files_dir/fastq_1.fq\n",
      "/Users/nilswaffenschmidt/waffenschmidt/notebooks/day_04/files_dir/SRR4_2.fq\n",
      "/Users/nilswaffenschmidt/waffenschmidt/notebooks/day_04/files_dir/fastq2_2.fq\n",
      "/Users/nilswaffenschmidt/waffenschmidt/notebooks/day_04/files_dir/file_3.txt\n",
      "/Users/nilswaffenschmidt/waffenschmidt/notebooks/day_04/files_dir/SRR2_2.fq\n",
      "/Users/nilswaffenschmidt/waffenschmidt/notebooks/day_04/files_dir/SRR.fq\n",
      "/Users/nilswaffenschmidt/waffenschmidt/notebooks/day_04/files_dir/fastq1_1.fq\n",
      "/Users/nilswaffenschmidt/waffenschmidt/notebooks/day_04/files_dir/SRR1_1.fq\n",
      "/Users/nilswaffenschmidt/waffenschmidt/notebooks/day_04/files_dir/SRR3_2.fq\n",
      "/Users/nilswaffenschmidt/waffenschmidt/notebooks/day_04/files_dir/fastq_2.fq\n",
      "/Users/nilswaffenschmidt/waffenschmidt/notebooks/day_04/files_dir/fastq3_2.fq\n",
      "/Users/nilswaffenschmidt/waffenschmidt/notebooks/day_04/files_dir/fastq2_1.fq\n",
      "/Users/nilswaffenschmidt/waffenschmidt/notebooks/day_04/files_dir/fastq_1.fq\n",
      "/Users/nilswaffenschmidt/waffenschmidt/notebooks/day_04/files_dir/SRR2_1.fq\n",
      "/Users/nilswaffenschmidt/waffenschmidt/notebooks/day_04/files_dir/fastq2_2.fq\n",
      "/Users/nilswaffenschmidt/waffenschmidt/notebooks/day_04/files_dir/fastq1_2.fq\n",
      "/Users/nilswaffenschmidt/waffenschmidt/notebooks/day_04/files_dir/SRR2_2.fq\n",
      "/Users/nilswaffenschmidt/waffenschmidt/notebooks/day_04/files_dir/SRR1_2.fq\n",
      "/Users/nilswaffenschmidt/waffenschmidt/notebooks/day_04/files_dir/fastq1_1.fq\n",
      "/Users/nilswaffenschmidt/waffenschmidt/notebooks/day_04/files_dir/SRR3_1.fq\n",
      "/Users/nilswaffenschmidt/waffenschmidt/notebooks/day_04/files_dir/SRR1_1.fq\n",
      "/Users/nilswaffenschmidt/waffenschmidt/notebooks/day_04/files_dir/fastq3_1.fq\n",
      "/Users/nilswaffenschmidt/waffenschmidt/notebooks/day_04/files_dir/fastq_2.fq\n",
      "/Users/nilswaffenschmidt/waffenschmidt/notebooks/day_04/files_dir/fastq4_1.fq\n",
      "/Users/nilswaffenschmidt/waffenschmidt/notebooks/day_04/files_dir/fastq2_1.fq\n",
      "/Users/nilswaffenschmidt/waffenschmidt/notebooks/day_04/files_dir/SRR4_1.fq\n",
      "/Users/nilswaffenschmidt/waffenschmidt/notebooks/day_04/files_dir/SRR2_1.fq\n",
      "/Users/nilswaffenschmidt/waffenschmidt/notebooks/day_04/files_dir/SRR5_1.fq\n",
      "/Users/nilswaffenschmidt/waffenschmidt/notebooks/day_04/files_dir/fastq1_2.fq\n",
      "/Users/nilswaffenschmidt/waffenschmidt/notebooks/day_04/files_dir/fastq5_1.fq\n",
      "/Users/nilswaffenschmidt/waffenschmidt/notebooks/day_04/files_dir/SRR1_2.fq\n",
      "/Users/nilswaffenschmidt/waffenschmidt/notebooks/day_04/files_dir/SRR3_1.fq\n",
      "/Users/nilswaffenschmidt/waffenschmidt/notebooks/day_04/files_dir/fastq3_1.fq\n",
      "/Users/nilswaffenschmidt/waffenschmidt/notebooks/day_04/files_dir/fastq4_1.fq\n",
      "/Users/nilswaffenschmidt/waffenschmidt/notebooks/day_04/files_dir/SRR4_1.fq\n",
      "/Users/nilswaffenschmidt/waffenschmidt/notebooks/day_04/files_dir/SRR5_1.fq\n",
      "/Users/nilswaffenschmidt/waffenschmidt/notebooks/day_04/files_dir/fastq5_1.fq\n"
     ]
    }
   ],
   "source": [
    "# Task 3 - Create a channel that includes all files in the \"files_dir\" directory\n",
    "!nextflow run channels_intro.nf --step 3"
   ]
  },
  {
   "cell_type": "code",
   "execution_count": 10,
   "metadata": {},
   "outputs": [
    {
     "name": "stdout",
     "output_type": "stream",
     "text": [
      "\n",
      "\u001b[1m\u001b[38;5;232m\u001b[48;5;43m N E X T F L O W \u001b[0;2m  ~  \u001b[mversion 25.04.7\u001b[m\n",
      "\u001b[K\n",
      "Launching\u001b[35m `channels_intro.nf` \u001b[0;2m[\u001b[0;1;36mshrivelled_brenner\u001b[0;2m] DSL2 - \u001b[36mrevision: \u001b[0;36mdb7f95ac58\u001b[m\n",
      "\u001b[K\n",
      "/Users/nilswaffenschmidt/waffenschmidt/notebooks/day_04/files_dir/file_4.txt\n",
      "/Users/nilswaffenschmidt/waffenschmidt/notebooks/day_04/files_dir/file_5.txt\n",
      "/Users/nilswaffenschmidt/waffenschmidt/notebooks/day_04/files_dir/file_1.txt\n",
      "/Users/nilswaffenschmidt/waffenschmidt/notebooks/day_04/files_dir/file_2.txt\n",
      "/Users/nilswaffenschmidt/waffenschmidt/notebooks/day_04/files_dir/file_3.txt\n"
     ]
    }
   ],
   "source": [
    "# Task 4 - Create a channel that includes all TXT files in the \"files_dir\" directory\n",
    "!nextflow run channels_intro.nf --step 4"
   ]
  },
  {
   "cell_type": "code",
   "execution_count": 11,
   "metadata": {},
   "outputs": [
    {
     "name": "stdout",
     "output_type": "stream",
     "text": [
      "\n",
      "\u001b[1m\u001b[38;5;232m\u001b[48;5;43m N E X T F L O W \u001b[0;2m  ~  \u001b[mversion 25.04.7\u001b[m\n",
      "\u001b[K\n",
      "Launching\u001b[35m `channels_intro.nf` \u001b[0;2m[\u001b[0;1;36mbackstabbing_darwin\u001b[0;2m] DSL2 - \u001b[36mrevision: \u001b[0;36m1b1d9722c6\u001b[m\n",
      "\u001b[K\n",
      "/Users/nilswaffenschmidt/waffenschmidt/notebooks/day_04/files_dir/fastq_1.fq\n",
      "/Users/nilswaffenschmidt/waffenschmidt/notebooks/day_04/files_dir/fastq_2.fq\n"
     ]
    }
   ],
   "source": [
    "# Task 5 - Create a channel that includes the files \"fastq_1.fq\" and \"fastq_2.fq\" in the \"files_dir\" directory\n",
    "!nextflow run channels_intro.nf --step 5"
   ]
  },
  {
   "cell_type": "code",
   "execution_count": 12,
   "metadata": {},
   "outputs": [
    {
     "name": "stdout",
     "output_type": "stream",
     "text": [
      "\n",
      "\u001b[1m\u001b[38;5;232m\u001b[48;5;43m N E X T F L O W \u001b[0;2m  ~  \u001b[mversion 25.04.7\u001b[m\n",
      "\u001b[K\n",
      "Launching\u001b[35m `channels_intro.nf` \u001b[0;2m[\u001b[0;1;36mamazing_ramanujan\u001b[0;2m] DSL2 - \u001b[36mrevision: \u001b[0;36mfb68b99a26\u001b[m\n",
      "\u001b[K\n",
      "/Users/nilswaffenschmidt/waffenschmidt/notebooks/day_04/files_dir/SRR5_2.fq\n",
      "/Users/nilswaffenschmidt/waffenschmidt/notebooks/day_04/files_dir/fastq5_2.fq\n",
      "/Users/nilswaffenschmidt/waffenschmidt/notebooks/day_04/files_dir/file_4.txt\n",
      "/Users/nilswaffenschmidt/waffenschmidt/notebooks/day_04/files_dir/file_5.txt\n",
      "/Users/nilswaffenschmidt/waffenschmidt/notebooks/day_04/files_dir/file_1.txt\n",
      "/Users/nilswaffenschmidt/waffenschmidt/notebooks/day_04/files_dir/.hidden_2.txt\n",
      "/Users/nilswaffenschmidt/waffenschmidt/notebooks/day_04/files_dir/file_2.txt\n",
      "/Users/nilswaffenschmidt/waffenschmidt/notebooks/day_04/files_dir/fastq.fq\n",
      "/Users/nilswaffenschmidt/waffenschmidt/notebooks/day_04/files_dir/fastq4_2.fq\n",
      "/Users/nilswaffenschmidt/waffenschmidt/notebooks/day_04/files_dir/SRR4_2.fq\n",
      "/Users/nilswaffenschmidt/waffenschmidt/notebooks/day_04/files_dir/file_3.txt\n",
      "/Users/nilswaffenschmidt/waffenschmidt/notebooks/day_04/files_dir/.hidden_1.txt\n",
      "/Users/nilswaffenschmidt/waffenschmidt/notebooks/day_04/files_dir/SRR.fq\n",
      "/Users/nilswaffenschmidt/waffenschmidt/notebooks/day_04/files_dir/SRR3_2.fq\n",
      "/Users/nilswaffenschmidt/waffenschmidt/notebooks/day_04/files_dir/fastq3_2.fq\n",
      "/Users/nilswaffenschmidt/waffenschmidt/notebooks/day_04/files_dir/fastq_1.fq\n",
      "/Users/nilswaffenschmidt/waffenschmidt/notebooks/day_04/files_dir/fastq2_2.fq\n",
      "/Users/nilswaffenschmidt/waffenschmidt/notebooks/day_04/files_dir/SRR2_2.fq\n",
      "/Users/nilswaffenschmidt/waffenschmidt/notebooks/day_04/files_dir/fastq1_1.fq\n",
      "/Users/nilswaffenschmidt/waffenschmidt/notebooks/day_04/files_dir/SRR1_1.fq\n",
      "/Users/nilswaffenschmidt/waffenschmidt/notebooks/day_04/files_dir/fastq_2.fq\n",
      "/Users/nilswaffenschmidt/waffenschmidt/notebooks/day_04/files_dir/fastq2_1.fq\n",
      "/Users/nilswaffenschmidt/waffenschmidt/notebooks/day_04/files_dir/SRR2_1.fq\n",
      "/Users/nilswaffenschmidt/waffenschmidt/notebooks/day_04/files_dir/fastq1_2.fq\n",
      "/Users/nilswaffenschmidt/waffenschmidt/notebooks/day_04/files_dir/SRR1_2.fq\n",
      "/Users/nilswaffenschmidt/waffenschmidt/notebooks/day_04/files_dir/SRR3_1.fq\n",
      "/Users/nilswaffenschmidt/waffenschmidt/notebooks/day_04/files_dir/fastq3_1.fq\n",
      "/Users/nilswaffenschmidt/waffenschmidt/notebooks/day_04/files_dir/fastq4_1.fq\n",
      "/Users/nilswaffenschmidt/waffenschmidt/notebooks/day_04/files_dir/SRR4_1.fq\n",
      "/Users/nilswaffenschmidt/waffenschmidt/notebooks/day_04/files_dir/SRR5_1.fq\n",
      "/Users/nilswaffenschmidt/waffenschmidt/notebooks/day_04/files_dir/fastq5_1.fq\n"
     ]
    }
   ],
   "source": [
    "# Task 6 - go back to the time when you included all files. Are you sure that really ALL files are included? If not, how can you include them?\n",
    "!nextflow run channels_intro.nf --step 6"
   ]
  },
  {
   "cell_type": "code",
   "execution_count": 14,
   "metadata": {},
   "outputs": [
    {
     "name": "stdout",
     "output_type": "stream",
     "text": [
      "\n",
      "\u001b[1m\u001b[38;5;232m\u001b[48;5;43m N E X T F L O W \u001b[0;2m  ~  \u001b[mversion 25.04.7\u001b[m\n",
      "\u001b[K\n",
      "Launching\u001b[35m `channels_intro.nf` \u001b[0;2m[\u001b[0;1;36msoggy_bell\u001b[0;2m] DSL2 - \u001b[36mrevision: \u001b[0;36m35347fbc70\u001b[m\n",
      "\u001b[K\n",
      "[file, [/Users/nilswaffenschmidt/waffenschmidt/notebooks/day_04/files_dir/file_1.txt, /Users/nilswaffenschmidt/waffenschmidt/notebooks/day_04/files_dir/file_2.txt]]\n",
      "[.hidden, [/Users/nilswaffenschmidt/waffenschmidt/notebooks/day_04/files_dir/.hidden_1.txt, /Users/nilswaffenschmidt/waffenschmidt/notebooks/day_04/files_dir/.hidden_2.txt]]\n",
      "[fastq, [/Users/nilswaffenschmidt/waffenschmidt/notebooks/day_04/files_dir/fastq_1.fq, /Users/nilswaffenschmidt/waffenschmidt/notebooks/day_04/files_dir/fastq_2.fq]]\n",
      "[fastq2, [/Users/nilswaffenschmidt/waffenschmidt/notebooks/day_04/files_dir/fastq2_1.fq, /Users/nilswaffenschmidt/waffenschmidt/notebooks/day_04/files_dir/fastq2_2.fq]]\n",
      "[SRR2, [/Users/nilswaffenschmidt/waffenschmidt/notebooks/day_04/files_dir/SRR2_1.fq, /Users/nilswaffenschmidt/waffenschmidt/notebooks/day_04/files_dir/SRR2_2.fq]]\n",
      "[fastq1, [/Users/nilswaffenschmidt/waffenschmidt/notebooks/day_04/files_dir/fastq1_1.fq, /Users/nilswaffenschmidt/waffenschmidt/notebooks/day_04/files_dir/fastq1_2.fq]]\n",
      "[SRR1, [/Users/nilswaffenschmidt/waffenschmidt/notebooks/day_04/files_dir/SRR1_1.fq, /Users/nilswaffenschmidt/waffenschmidt/notebooks/day_04/files_dir/SRR1_2.fq]]\n",
      "[SRR3, [/Users/nilswaffenschmidt/waffenschmidt/notebooks/day_04/files_dir/SRR3_1.fq, /Users/nilswaffenschmidt/waffenschmidt/notebooks/day_04/files_dir/SRR3_2.fq]]\n",
      "[fastq3, [/Users/nilswaffenschmidt/waffenschmidt/notebooks/day_04/files_dir/fastq3_1.fq, /Users/nilswaffenschmidt/waffenschmidt/notebooks/day_04/files_dir/fastq3_2.fq]]\n",
      "[fastq4, [/Users/nilswaffenschmidt/waffenschmidt/notebooks/day_04/files_dir/fastq4_1.fq, /Users/nilswaffenschmidt/waffenschmidt/notebooks/day_04/files_dir/fastq4_2.fq]]\n",
      "[SRR4, [/Users/nilswaffenschmidt/waffenschmidt/notebooks/day_04/files_dir/SRR4_1.fq, /Users/nilswaffenschmidt/waffenschmidt/notebooks/day_04/files_dir/SRR4_2.fq]]\n",
      "[SRR5, [/Users/nilswaffenschmidt/waffenschmidt/notebooks/day_04/files_dir/SRR5_1.fq, /Users/nilswaffenschmidt/waffenschmidt/notebooks/day_04/files_dir/SRR5_2.fq]]\n",
      "[fastq5, [/Users/nilswaffenschmidt/waffenschmidt/notebooks/day_04/files_dir/fastq5_1.fq, /Users/nilswaffenschmidt/waffenschmidt/notebooks/day_04/files_dir/fastq5_2.fq]]\n"
     ]
    }
   ],
   "source": [
    "# Task 7 - get all filepairs in the \"files_dir\" directory\n",
    "!nextflow run channels_intro.nf --step 7"
   ]
  },
  {
   "cell_type": "markdown",
   "metadata": {},
   "source": [
    "## Now that you have a solid understanding of the basic concepts of channels in Nextflow, it’s time to experiment and see how they work in practice."
   ]
  },
  {
   "cell_type": "markdown",
   "metadata": {},
   "source": [
    "To do so, Nextflow has the concept of Operators to give and pass information inbetween channels.\n",
    "\n",
    "Please answer the questions in $\\texttt{basic\\_channel\\_operations.nf}$ and run the code here. "
   ]
  },
  {
   "cell_type": "code",
   "execution_count": 16,
   "metadata": {},
   "outputs": [
    {
     "name": "stdout",
     "output_type": "stream",
     "text": [
      "\n",
      "\u001b[1m\u001b[38;5;232m\u001b[48;5;43m N E X T F L O W \u001b[0;2m  ~  \u001b[mversion 25.04.7\u001b[m\n",
      "\u001b[K\n",
      "Launching\u001b[35m `basic_channel_operations.nf` \u001b[0;2m[\u001b[0;1;36mmagical_poincare\u001b[0;2m] DSL2 - \u001b[36mrevision: \u001b[0;36m8047c187d9\u001b[m\n",
      "\u001b[K\n",
      "1\n"
     ]
    }
   ],
   "source": [
    "# Task 1 - Extract the first item from the channel\n",
    "!nextflow run basic_channel_operations.nf --step 1"
   ]
  },
  {
   "cell_type": "code",
   "execution_count": 17,
   "metadata": {},
   "outputs": [
    {
     "name": "stdout",
     "output_type": "stream",
     "text": [
      "\n",
      "\u001b[1m\u001b[38;5;232m\u001b[48;5;43m N E X T F L O W \u001b[0;2m  ~  \u001b[mversion 25.04.7\u001b[m\n",
      "\u001b[K\n",
      "Launching\u001b[35m `basic_channel_operations.nf` \u001b[0;2m[\u001b[0;1;36mjolly_tesla\u001b[0;2m] DSL2 - \u001b[36mrevision: \u001b[0;36maca51ea518\u001b[m\n",
      "\u001b[K\n",
      "3\n"
     ]
    }
   ],
   "source": [
    "# Task 2 - Extract the last item from the channel\n",
    "!nextflow run basic_channel_operations.nf --step 2"
   ]
  },
  {
   "cell_type": "code",
   "execution_count": 18,
   "metadata": {},
   "outputs": [
    {
     "name": "stdout",
     "output_type": "stream",
     "text": [
      "\n",
      "\u001b[1m\u001b[38;5;232m\u001b[48;5;43m N E X T F L O W \u001b[0;2m  ~  \u001b[mversion 25.04.7\u001b[m\n",
      "\u001b[K\n",
      "Launching\u001b[35m `basic_channel_operations.nf` \u001b[0;2m[\u001b[0;1;36mwise_curran\u001b[0;2m] DSL2 - \u001b[36mrevision: \u001b[0;36m9017567601\u001b[m\n",
      "\u001b[K\n",
      "1\n",
      "2\n"
     ]
    }
   ],
   "source": [
    "# Task 3 - Use an operator to extract the first two items from the channel\n",
    "!nextflow run basic_channel_operations.nf --step 3"
   ]
  },
  {
   "cell_type": "code",
   "execution_count": 19,
   "metadata": {},
   "outputs": [
    {
     "name": "stdout",
     "output_type": "stream",
     "text": [
      "\n",
      "\u001b[1m\u001b[38;5;232m\u001b[48;5;43m N E X T F L O W \u001b[0;2m  ~  \u001b[mversion 25.04.7\u001b[m\n",
      "\u001b[K\n",
      "Launching\u001b[35m `basic_channel_operations.nf` \u001b[0;2m[\u001b[0;1;36msharp_venter\u001b[0;2m] DSL2 - \u001b[36mrevision: \u001b[0;36m797eb35001\u001b[m\n",
      "\u001b[K\n",
      "4\n",
      "9\n",
      "16\n"
     ]
    }
   ],
   "source": [
    "# Task 4 - Return the squared values of the channel\n",
    "!nextflow run basic_channel_operations.nf --step 4"
   ]
  },
  {
   "cell_type": "code",
   "execution_count": 21,
   "metadata": {},
   "outputs": [
    {
     "name": "stdout",
     "output_type": "stream",
     "text": [
      "\n",
      "\u001b[1m\u001b[38;5;232m\u001b[48;5;43m N E X T F L O W \u001b[0;2m  ~  \u001b[mversion 25.04.7\u001b[m\n",
      "\u001b[K\n",
      "Launching\u001b[35m `basic_channel_operations.nf` \u001b[0;2m[\u001b[0;1;36mfurious_golick\u001b[0;2m] DSL2 - \u001b[36mrevision: \u001b[0;36mf902eb4ad3\u001b[m\n",
      "\u001b[K\n",
      "4\n",
      "9\n"
     ]
    }
   ],
   "source": [
    "# Task 5 - Remember the previous task where you squared the values of the channel. Now, extract the first two items from the squared channel\n",
    "!nextflow run basic_channel_operations.nf --step 5"
   ]
  },
  {
   "cell_type": "code",
   "execution_count": 24,
   "metadata": {},
   "outputs": [
    {
     "name": "stdout",
     "output_type": "stream",
     "text": [
      "\n",
      "\u001b[1m\u001b[38;5;232m\u001b[48;5;43m N E X T F L O W \u001b[0;2m  ~  \u001b[mversion 25.04.7\u001b[m\n",
      "\u001b[K\n",
      "Launching\u001b[35m `basic_channel_operations.nf` \u001b[0;2m[\u001b[0;1;36mstoic_wing\u001b[0;2m] DSL2 - \u001b[36mrevision: \u001b[0;36m8baae66e8e\u001b[m\n",
      "\u001b[K\n",
      "Swift\n",
      "Taylor\n"
     ]
    }
   ],
   "source": [
    "# Task 6 - Remember when you used bash to reverse the output? Try to use map and Groovy to reverse the output\n",
    "!nextflow run basic_channel_operations.nf --step 6"
   ]
  },
  {
   "cell_type": "code",
   "execution_count": 26,
   "metadata": {},
   "outputs": [
    {
     "name": "stdout",
     "output_type": "stream",
     "text": [
      "\n",
      "\u001b[1m\u001b[38;5;232m\u001b[48;5;43m N E X T F L O W \u001b[0;2m  ~  \u001b[mversion 25.04.7\u001b[m\n",
      "\u001b[K\n",
      "Launching\u001b[35m `basic_channel_operations.nf` \u001b[0;2m[\u001b[0;1;36mcheeky_plateau\u001b[0;2m] DSL2 - \u001b[36mrevision: \u001b[0;36m38b3137b85\u001b[m\n",
      "\u001b[K\n",
      "[SRR5_2.fq, /Users/nilswaffenschmidt/waffenschmidt/notebooks/day_04/files_dir/SRR5_2.fq]\n",
      "[fastq5_2.fq, /Users/nilswaffenschmidt/waffenschmidt/notebooks/day_04/files_dir/fastq5_2.fq]\n",
      "[fastq.fq, /Users/nilswaffenschmidt/waffenschmidt/notebooks/day_04/files_dir/fastq.fq]\n",
      "[fastq4_2.fq, /Users/nilswaffenschmidt/waffenschmidt/notebooks/day_04/files_dir/fastq4_2.fq]\n",
      "[SRR4_2.fq, /Users/nilswaffenschmidt/waffenschmidt/notebooks/day_04/files_dir/SRR4_2.fq]\n",
      "[SRR.fq, /Users/nilswaffenschmidt/waffenschmidt/notebooks/day_04/files_dir/SRR.fq]\n",
      "[SRR3_2.fq, /Users/nilswaffenschmidt/waffenschmidt/notebooks/day_04/files_dir/SRR3_2.fq]\n",
      "[fastq3_2.fq, /Users/nilswaffenschmidt/waffenschmidt/notebooks/day_04/files_dir/fastq3_2.fq]\n",
      "[fastq_1.fq, /Users/nilswaffenschmidt/waffenschmidt/notebooks/day_04/files_dir/fastq_1.fq]\n",
      "[fastq2_2.fq, /Users/nilswaffenschmidt/waffenschmidt/notebooks/day_04/files_dir/fastq2_2.fq]\n",
      "[SRR2_2.fq, /Users/nilswaffenschmidt/waffenschmidt/notebooks/day_04/files_dir/SRR2_2.fq]\n",
      "[fastq1_1.fq, /Users/nilswaffenschmidt/waffenschmidt/notebooks/day_04/files_dir/fastq1_1.fq]\n",
      "[SRR1_1.fq, /Users/nilswaffenschmidt/waffenschmidt/notebooks/day_04/files_dir/SRR1_1.fq]\n",
      "[fastq_2.fq, /Users/nilswaffenschmidt/waffenschmidt/notebooks/day_04/files_dir/fastq_2.fq]\n",
      "[fastq2_1.fq, /Users/nilswaffenschmidt/waffenschmidt/notebooks/day_04/files_dir/fastq2_1.fq]\n",
      "[SRR2_1.fq, /Users/nilswaffenschmidt/waffenschmidt/notebooks/day_04/files_dir/SRR2_1.fq]\n",
      "[fastq1_2.fq, /Users/nilswaffenschmidt/waffenschmidt/notebooks/day_04/files_dir/fastq1_2.fq]\n",
      "[SRR1_2.fq, /Users/nilswaffenschmidt/waffenschmidt/notebooks/day_04/files_dir/SRR1_2.fq]\n",
      "[SRR3_1.fq, /Users/nilswaffenschmidt/waffenschmidt/notebooks/day_04/files_dir/SRR3_1.fq]\n",
      "[fastq3_1.fq, /Users/nilswaffenschmidt/waffenschmidt/notebooks/day_04/files_dir/fastq3_1.fq]\n",
      "[fastq4_1.fq, /Users/nilswaffenschmidt/waffenschmidt/notebooks/day_04/files_dir/fastq4_1.fq]\n",
      "[SRR4_1.fq, /Users/nilswaffenschmidt/waffenschmidt/notebooks/day_04/files_dir/SRR4_1.fq]\n",
      "[SRR5_1.fq, /Users/nilswaffenschmidt/waffenschmidt/notebooks/day_04/files_dir/SRR5_1.fq]\n",
      "[fastq5_1.fq, /Users/nilswaffenschmidt/waffenschmidt/notebooks/day_04/files_dir/fastq5_1.fq]\n"
     ]
    }
   ],
   "source": [
    "# Task 7 - Use fromPath to include all fastq files in the \"files_dir\" directory, then use map to return a pair containing the file name and the file path (Hint: include groovy code)\n",
    "!nextflow run basic_channel_operations.nf --step 7"
   ]
  },
  {
   "cell_type": "code",
   "execution_count": 29,
   "metadata": {},
   "outputs": [
    {
     "name": "stdout",
     "output_type": "stream",
     "text": [
      "\n",
      "\u001b[1m\u001b[38;5;232m\u001b[48;5;43m N E X T F L O W \u001b[0;2m  ~  \u001b[mversion 25.04.7\u001b[m\n",
      "\u001b[K\n",
      "Launching\u001b[35m `basic_channel_operations.nf` \u001b[0;2m[\u001b[0;1;36mnauseous_venter\u001b[0;2m] DSL2 - \u001b[36mrevision: \u001b[0;36m1f9a1d7c0a\u001b[m\n",
      "\u001b[K\n",
      "1\n",
      "2\n",
      "3\n",
      "4\n",
      "5\n",
      "6\n"
     ]
    }
   ],
   "source": [
    "# Task 8 - Combine the items from the two channels into a single channel\n",
    "!nextflow run basic_channel_operations.nf --step 8"
   ]
  },
  {
   "cell_type": "code",
   "execution_count": 30,
   "metadata": {},
   "outputs": [
    {
     "name": "stdout",
     "output_type": "stream",
     "text": [
      "\n",
      "\u001b[1m\u001b[38;5;232m\u001b[48;5;43m N E X T F L O W \u001b[0;2m  ~  \u001b[mversion 25.04.7\u001b[m\n",
      "\u001b[K\n",
      "Launching\u001b[35m `basic_channel_operations.nf` \u001b[0;2m[\u001b[0;1;36mtender_fermi\u001b[0;2m] DSL2 - \u001b[36mrevision: \u001b[0;36mfc7487c842\u001b[m\n",
      "\u001b[K\n",
      "1\n",
      "2\n",
      "3\n",
      "4\n",
      "5\n",
      "6\n"
     ]
    }
   ],
   "source": [
    "# Task 9 - Flatten the list in the channel\n",
    "!nextflow run basic_channel_operations.nf --step 9"
   ]
  },
  {
   "cell_type": "code",
   "execution_count": 32,
   "metadata": {},
   "outputs": [
    {
     "name": "stdout",
     "output_type": "stream",
     "text": [
      "\n",
      "\u001b[1m\u001b[38;5;232m\u001b[48;5;43m N E X T F L O W \u001b[0;2m  ~  \u001b[mversion 25.04.7\u001b[m\n",
      "\u001b[K\n",
      "Launching\u001b[35m `basic_channel_operations.nf` \u001b[0;2m[\u001b[0;1;36mwise_marconi\u001b[0;2m] DSL2 - \u001b[36mrevision: \u001b[0;36mbf6d6da526\u001b[m\n",
      "\u001b[K\n",
      "[1, 2, 3]\n"
     ]
    }
   ],
   "source": [
    "# Task 10 - Collect the items of a channel into a list. What kind of channel is the output channel?\n",
    "!nextflow run basic_channel_operations.nf --step 10"
   ]
  },
  {
   "cell_type": "markdown",
   "metadata": {},
   "source": [
    "What kind of channel is the output channel?: A single item!"
   ]
  },
  {
   "cell_type": "code",
   "execution_count": 34,
   "metadata": {},
   "outputs": [
    {
     "name": "stdout",
     "output_type": "stream",
     "text": [
      "\n",
      "\u001b[1m\u001b[38;5;232m\u001b[48;5;43m N E X T F L O W \u001b[0;2m  ~  \u001b[mversion 25.04.7\u001b[m\n",
      "\u001b[K\n",
      "Launching\u001b[35m `basic_channel_operations.nf` \u001b[0;2m[\u001b[0;1;36mpeaceful_lavoisier\u001b[0;2m] DSL2 - \u001b[36mrevision: \u001b[0;36m475496be0a\u001b[m\n",
      "\u001b[K\n",
      "[1, ['V', 'f', 'B'], 3, ['M', 'G', '33'], 2, ['O', 'L', 'E']]\n"
     ]
    }
   ],
   "source": [
    "# Task 11 -  From the input channel, create lists where each first item in the list of lists is the first item in the output channel, followed by a list of all the items its paired with\n",
    "!nextflow run basic_channel_operations.nf --step 11"
   ]
  },
  {
   "cell_type": "code",
   "execution_count": 35,
   "metadata": {},
   "outputs": [
    {
     "name": "stdout",
     "output_type": "stream",
     "text": [
      "\n",
      "\u001b[1m\u001b[38;5;232m\u001b[48;5;43m N E X T F L O W \u001b[0;2m  ~  \u001b[mversion 25.04.7\u001b[m\n",
      "\u001b[K\n",
      "Launching\u001b[35m `basic_channel_operations.nf` \u001b[0;2m[\u001b[0;1;36mdisturbed_goldstine\u001b[0;2m] DSL2 - \u001b[36mrevision: \u001b[0;36m68f7379994\u001b[m\n",
      "\u001b[K\n",
      "[1, V, f]\n",
      "[3, M, G]\n",
      "[2, O, L]\n"
     ]
    }
   ],
   "source": [
    "# Task 12 - Create a channel that joins the input to the output channel. What do you notice?\n",
    "!nextflow run basic_channel_operations.nf --step 12"
   ]
  },
  {
   "cell_type": "markdown",
   "metadata": {},
   "source": [
    "Task 12 - What do you notice compared to Task 11?"
   ]
  },
  {
   "cell_type": "code",
   "execution_count": 39,
   "metadata": {},
   "outputs": [
    {
     "name": "stdout",
     "output_type": "stream",
     "text": [
      "\n",
      "\u001b[1m\u001b[38;5;232m\u001b[48;5;43m N E X T F L O W \u001b[0;2m  ~  \u001b[mversion 25.04.7\u001b[m\n",
      "\u001b[K\n",
      "Launching\u001b[35m `basic_channel_operations.nf` \u001b[0;2m[\u001b[0;1;36mexotic_lamarr\u001b[0;2m] DSL2 - \u001b[36mrevision: \u001b[0;36m75217b805a\u001b[m\n",
      "\u001b[K\n",
      "Odd numbers: [1, 3, 5, 7, 9]\n",
      "Even numbers: [2, 4, 6, 8, 10]\n"
     ]
    }
   ],
   "source": [
    "# Task 13 - Split the input channel into two channels, one of all the even numbers and the other of all the odd numbers.\n",
    "#           Write them to stdout including information about which is which\n",
    "!nextflow run basic_channel_operations.nf --step 13 -dump-channels"
   ]
  },
  {
   "cell_type": "code",
   "execution_count": 55,
   "metadata": {},
   "outputs": [
    {
     "name": "stdout",
     "output_type": "stream",
     "text": [
      "\n",
      "\u001b[1m\u001b[38;5;232m\u001b[48;5;43m N E X T F L O W \u001b[0;2m  ~  \u001b[mversion 25.04.7\u001b[m\n",
      "\u001b[K\n",
      "Launching\u001b[35m `basic_channel_operations.nf` \u001b[0;2m[\u001b[0;1;36msad_stallman\u001b[0;2m] DSL2 - \u001b[36mrevision: \u001b[0;36m08adad0208\u001b[m\n",
      "\u001b[K\n",
      "Harry\n",
      "Ron\n",
      "Hermione\n",
      "Albus\n",
      "Snape\n",
      "Hagrid\n",
      "Dobby\n"
     ]
    }
   ],
   "source": [
    "# Task 14 - Nextflow has the concept of maps. Write the names in the maps in this channel to a file called \"names.txt\". Each name should be on a new line. \n",
    "#           Store the file in the \"results\" directory under the name \"names.txt\"\n",
    "\n",
    "!nextflow run basic_channel_operations.nf --step 14\n",
    "\n",
    "!cat results/names.txt\n"
   ]
  },
  {
   "cell_type": "markdown",
   "metadata": {},
   "source": [
    "## Now that we learned about Channels and Operators to deal with them, let's focus on Processes that make use of these channels."
   ]
  },
  {
   "cell_type": "markdown",
   "metadata": {},
   "source": [
    "Please answer the questions in $\\texttt{basics\\_processes.nf}$ and run the code here. "
   ]
  },
  {
   "cell_type": "code",
   "execution_count": 59,
   "metadata": {},
   "outputs": [
    {
     "name": "stdout",
     "output_type": "stream",
     "text": [
      "\n",
      "\u001b[1m\u001b[38;5;232m\u001b[48;5;43m N E X T F L O W \u001b[0;2m  ~  \u001b[mversion 25.04.7\u001b[m\n",
      "\u001b[K\n",
      "Launching\u001b[35m `basics_processes.nf` \u001b[0;2m[\u001b[0;1;36mamazing_goldstine\u001b[0;2m] DSL2 - \u001b[36mrevision: \u001b[0;36m9ba6823d4f\u001b[m\n",
      "\u001b[K\n",
      "\u001b[2mexecutor >  local (1)\u001b[m\u001b[K\n",
      "\u001b[2m[\u001b[0;34m69/a0a8be\u001b[0;2m] \u001b[0;2m\u001b[mSAYHELLO\u001b[2m |\u001b[m 1 of 1\u001b[32m ✔\u001b[m\u001b[K\n",
      "Hello world!\u001b[K\n",
      "\u001b[K\n",
      "\u001b[5A\n",
      "\u001b[2mexecutor >  local (1)\u001b[m\u001b[K\n",
      "\u001b[2m[\u001b[0;34m69/a0a8be\u001b[0;2m] \u001b[0;2m\u001b[mSAYHELLO\u001b[2m |\u001b[m 1 of 1\u001b[32m ✔\u001b[m\u001b[K\n",
      "Hello world!\u001b[K\n",
      "\u001b[K\n",
      "\n"
     ]
    }
   ],
   "source": [
    "# Task 1 - create a process that says Hello World! (add debug true to the process right after initializing to be sable to print the output to the console)\n",
    "!nextflow run basics_processes.nf --step 1"
   ]
  },
  {
   "cell_type": "code",
   "execution_count": 60,
   "metadata": {},
   "outputs": [
    {
     "name": "stdout",
     "output_type": "stream",
     "text": [
      "\n",
      "\u001b[1m\u001b[38;5;232m\u001b[48;5;43m N E X T F L O W \u001b[0;2m  ~  \u001b[mversion 25.04.7\u001b[m\n",
      "\u001b[K\n",
      "Launching\u001b[35m `basics_processes.nf` \u001b[0;2m[\u001b[0;1;36mcrazy_pasteur\u001b[0;2m] DSL2 - \u001b[36mrevision: \u001b[0;36m99dceec64a\u001b[m\n",
      "\u001b[K\n",
      "\u001b[2mexecutor >  local (1)\u001b[m\u001b[K\n",
      "\u001b[2m[\u001b[0;34meb/64f82a\u001b[0;2m] \u001b[0;2m\u001b[mSAYHELLO_PYTHON\u001b[2m |\u001b[m 1 of 1\u001b[32m ✔\u001b[m\u001b[K\n",
      "hello world\u001b[K\n",
      "\u001b[K\n",
      "\u001b[5A\n",
      "\u001b[2mexecutor >  local (1)\u001b[m\u001b[K\n",
      "\u001b[2m[\u001b[0;34meb/64f82a\u001b[0;2m] \u001b[0;2m\u001b[mSAYHELLO_PYTHON\u001b[2m |\u001b[m 1 of 1\u001b[32m ✔\u001b[m\u001b[K\n",
      "hello world\u001b[K\n",
      "\u001b[K\n",
      "\n"
     ]
    }
   ],
   "source": [
    "# Task 2 - create a process that says Hello World! using Python\n",
    "!nextflow run basics_processes.nf --step 2"
   ]
  },
  {
   "cell_type": "code",
   "execution_count": 61,
   "metadata": {},
   "outputs": [
    {
     "name": "stdout",
     "output_type": "stream",
     "text": [
      "\n",
      "\u001b[1m\u001b[38;5;232m\u001b[48;5;43m N E X T F L O W \u001b[0;2m  ~  \u001b[mversion 25.04.7\u001b[m\n",
      "\u001b[K\n",
      "Launching\u001b[35m `basics_processes.nf` \u001b[0;2m[\u001b[0;1;36mbig_pauling\u001b[0;2m] DSL2 - \u001b[36mrevision: \u001b[0;36m8b8766a146\u001b[m\n",
      "\u001b[K\n",
      "\u001b[2mexecutor >  local (1)\u001b[m\u001b[K\n",
      "\u001b[2m[\u001b[0;34md5/73cffb\u001b[0;2m] \u001b[0;2m\u001b[mSAYHELLO_PARAM\u001b[33;2m (\u001b[0;33m1\u001b[2m)\u001b[m\u001b[2m |\u001b[m 1 of 1\u001b[32m ✔\u001b[m\u001b[K\n",
      "Hello world!\u001b[K\n",
      "\u001b[K\n",
      "\u001b[5A\n",
      "\u001b[2mexecutor >  local (1)\u001b[m\u001b[K\n",
      "\u001b[2m[\u001b[0;34md5/73cffb\u001b[0;2m] \u001b[0;2m\u001b[mSAYHELLO_PARAM\u001b[33;2m (\u001b[0;33m1\u001b[2m)\u001b[m\u001b[2m |\u001b[m 1 of 1\u001b[32m ✔\u001b[m\u001b[K\n",
      "Hello world!\u001b[K\n",
      "\u001b[K\n",
      "\n"
     ]
    }
   ],
   "source": [
    "# Task 3 - create a process that reads in the string \"Hello world!\" from a channel and write it to command line\n",
    "!nextflow run basics_processes.nf --step 3"
   ]
  },
  {
   "cell_type": "code",
   "execution_count": 66,
   "metadata": {},
   "outputs": [
    {
     "name": "stdout",
     "output_type": "stream",
     "text": [
      "\n",
      "\u001b[1m\u001b[38;5;232m\u001b[48;5;43m N E X T F L O W \u001b[0;2m  ~  \u001b[mversion 25.04.7\u001b[m\n",
      "\u001b[K\n",
      "Launching\u001b[35m `basics_processes.nf` \u001b[0;2m[\u001b[0;1;36mstoic_bhaskara\u001b[0;2m] DSL2 - \u001b[36mrevision: \u001b[0;36m45350d20bc\u001b[m\n",
      "\u001b[K\n",
      "\u001b[2mexecutor >  local (1)\u001b[m\u001b[K\n",
      "\u001b[2m[\u001b[0;34me1/ec81a3\u001b[0;2m] \u001b[0;2m\u001b[mSAYHELLO_FILE\u001b[33;2m (\u001b[0;33m1\u001b[2m)\u001b[m\u001b[2m |\u001b[m 0 of 1\u001b[K\n",
      "\u001b[3A\n",
      "\u001b[2mexecutor >  local (1)\u001b[m\u001b[K\n",
      "\u001b[2m[\u001b[0;34me1/ec81a3\u001b[0;2m] \u001b[0;2m\u001b[mSAYHELLO_FILE\u001b[33;2m (\u001b[0;33m1\u001b[2m)\u001b[m\u001b[2m |\u001b[m 1 of 1\u001b[32m ✔\u001b[m\u001b[K\n",
      "\n"
     ]
    }
   ],
   "source": [
    "# Task 4 - create a process that reads in the string \"Hello world!\" from a channel and write it to a file. \n",
    "!nextflow run basics_processes.nf --step 4"
   ]
  },
  {
   "cell_type": "markdown",
   "metadata": {},
   "source": [
    "It might be that you created the file but it doesnt appear in the directory. Use the work folder and the output on the command line to find the file."
   ]
  },
  {
   "cell_type": "code",
   "execution_count": 73,
   "metadata": {},
   "outputs": [
    {
     "name": "stdout",
     "output_type": "stream",
     "text": [
      "\n",
      "\u001b[1m\u001b[38;5;232m\u001b[48;5;43m N E X T F L O W \u001b[0;2m  ~  \u001b[mversion 25.04.7\u001b[m\n",
      "\u001b[K\n",
      "Launching\u001b[35m `basics_processes.nf` \u001b[0;2m[\u001b[0;1;36mromantic_goldstine\u001b[0;2m] DSL2 - \u001b[36mrevision: \u001b[0;36ma4d37946a5\u001b[m\n",
      "\u001b[K\n",
      "\u001b[2mexecutor >  local (1)\u001b[m\u001b[K\n",
      "\u001b[2m[\u001b[0;34mca/95c1f5\u001b[0;2m] \u001b[0;2m\u001b[mUPPERCASE\u001b[33;2m (\u001b[0;33m1\u001b[2m)\u001b[m\u001b[2m |\u001b[m 0 of 1\u001b[K\n",
      "\u001b[3A\n",
      "\u001b[2mexecutor >  local (1)\u001b[m\u001b[K\n",
      "\u001b[2m[\u001b[0;34mca/95c1f5\u001b[0;2m] \u001b[0;2m\u001b[mUPPERCASE\u001b[33;2m (\u001b[0;33m1\u001b[2m)\u001b[m\u001b[2m |\u001b[m 1 of 1\u001b[32m ✔\u001b[m\u001b[K\n",
      "/Users/nilswaffenschmidt/waffenschmidt/notebooks/day_04/work/ca/95c1f558f6c7809858784f46c1fea1/file_uppercase.txt\u001b[K\n",
      "\n"
     ]
    }
   ],
   "source": [
    "# Task 5 - create a process that reads in a string and converts it to uppercase and saves it to a file as output. View the path to the file in the console\n",
    "!nextflow run basics_processes.nf --step 5"
   ]
  },
  {
   "cell_type": "code",
   "execution_count": 74,
   "metadata": {},
   "outputs": [
    {
     "name": "stdout",
     "output_type": "stream",
     "text": [
      "\n",
      "\u001b[1m\u001b[38;5;232m\u001b[48;5;43m N E X T F L O W \u001b[0;2m  ~  \u001b[mversion 25.04.7\u001b[m\n",
      "\u001b[K\n",
      "Launching\u001b[35m `basics_processes.nf` \u001b[0;2m[\u001b[0;1;36mmagical_hypatia\u001b[0;2m] DSL2 - \u001b[36mrevision: \u001b[0;36m9564460d88\u001b[m\n",
      "\u001b[K\n",
      "\u001b[2m[\u001b[0;34m-        \u001b[0;2m] \u001b[0;2m\u001b[mUPPERCASE \u001b[2m |\u001b[m 0 of 1\u001b[K\n",
      "\u001b[2m[\u001b[0;34m-        \u001b[0;2m] \u001b[0;2m\u001b[mPRINTUPPER -\u001b[K\n",
      "\u001b[3A\n",
      "\u001b[2mexecutor >  local (2)\u001b[m\u001b[K\n",
      "\u001b[2m[\u001b[0;34m8f/bac628\u001b[0;2m] \u001b[0;2m\u001b[mUPPERCASE\u001b[33;2m (\u001b[0;33m1\u001b[2m)\u001b[m \u001b[2m |\u001b[m 1 of 1\u001b[32m ✔\u001b[m\u001b[K\n",
      "\u001b[2m[\u001b[0;34m66/b9aca1\u001b[0;2m] \u001b[0;2m\u001b[mPRINTUPPER\u001b[33;2m (\u001b[0;33m1\u001b[2m)\u001b[m\u001b[2m |\u001b[m 0 of 1\u001b[K\n",
      "\u001b[4A\n",
      "\u001b[2mexecutor >  local (2)\u001b[m\u001b[K\n",
      "\u001b[2m[\u001b[0;34m8f/bac628\u001b[0;2m] \u001b[0;2m\u001b[mUPPERCASE\u001b[33;2m (\u001b[0;33m1\u001b[2m)\u001b[m \u001b[2m |\u001b[m 1 of 1\u001b[32m ✔\u001b[m\u001b[K\n",
      "\u001b[2m[\u001b[0;34m66/b9aca1\u001b[0;2m] \u001b[0;2m\u001b[mPRINTUPPER\u001b[33;2m (\u001b[0;33m1\u001b[2m)\u001b[m\u001b[2m |\u001b[m 1 of 1\u001b[32m ✔\u001b[m\u001b[K\n",
      "HELLO WORLD!\u001b[K\n",
      "\u001b[K\n",
      "\n"
     ]
    }
   ],
   "source": [
    "# Task 6 - add another process that reads in the resulting file from UPPERCASE and print the content to the console (debug true).\n",
    "!nextflow run basics_processes.nf --step 6"
   ]
  },
  {
   "cell_type": "markdown",
   "metadata": {},
   "source": [
    "Comared to all the other runs. What changed in the output here and why?"
   ]
  },
  {
   "cell_type": "code",
   "execution_count": 76,
   "metadata": {},
   "outputs": [
    {
     "name": "stdout",
     "output_type": "stream",
     "text": [
      "\n",
      "\u001b[1m\u001b[38;5;232m\u001b[48;5;43m N E X T F L O W \u001b[0;2m  ~  \u001b[mversion 25.04.7\u001b[m\n",
      "\u001b[K\n",
      "Launching\u001b[35m `basics_processes.nf` \u001b[0;2m[\u001b[0;1;36mserene_booth\u001b[0;2m] DSL2 - \u001b[36mrevision: \u001b[0;36mdf87106536\u001b[m\n",
      "\u001b[K\n",
      "\u001b[2m[\u001b[0;34m-        \u001b[0;2m] \u001b[0;2m\u001b[mUPPERCASE\u001b[2m |\u001b[m 0 of 1\u001b[K\n",
      "\u001b[2m[\u001b[0;34m-        \u001b[0;2m] \u001b[0;2m\u001b[mZIPFILE   -\u001b[K\n",
      "\u001b[3A\n",
      "\u001b[2mexecutor >  local (2)\u001b[m\u001b[K\n",
      "\u001b[2m[\u001b[0;34m0f/fdd3cc\u001b[0;2m] \u001b[0;2m\u001b[mUPPERCASE\u001b[33;2m (\u001b[0;33m1\u001b[2m)\u001b[m\u001b[2m |\u001b[m 1 of 1\u001b[32m ✔\u001b[m\u001b[K\n",
      "\u001b[2m[\u001b[0;34md1/15a97c\u001b[0;2m] \u001b[0;2m\u001b[mZIPFILE\u001b[33;2m (\u001b[0;33m1\u001b[2m)\u001b[m  \u001b[2m |\u001b[m 1 of 1\u001b[32m ✔\u001b[m\u001b[K\n",
      "  adding: file_uppercase.txt (stored 0%)\u001b[K\n",
      "Zipped file created in: /Users/nilswaffenschmidt/waffenschmidt/notebooks/day_04/work/d1/15a97cbb623b6cc3b373052c152610\u001b[K\n",
      "\u001b[K\n",
      "\n"
     ]
    }
   ],
   "source": [
    "# Task 7 - based on the paramater \"zip\" (see at the head of the file), create a process that zips the file created in the UPPERCASE process either in \"zip\", \"gzip\" OR \"bzip2\" format.\n",
    "#          Print out the path to the zipped file in the console\n",
    "!nextflow run basics_processes.nf --step 7"
   ]
  },
  {
   "cell_type": "code",
   "execution_count": 77,
   "metadata": {},
   "outputs": [
    {
     "name": "stdout",
     "output_type": "stream",
     "text": [
      "\n",
      "\u001b[1m\u001b[38;5;232m\u001b[48;5;43m N E X T F L O W \u001b[0;2m  ~  \u001b[mversion 25.04.7\u001b[m\n",
      "\u001b[K\n",
      "Launching\u001b[35m `basics_processes.nf` \u001b[0;2m[\u001b[0;1;36msad_planck\u001b[0;2m] DSL2 - \u001b[36mrevision: \u001b[0;36m5001399790\u001b[m\n",
      "\u001b[K\n",
      "\u001b[2mexecutor >  local (1)\u001b[m\u001b[K\n",
      "\u001b[2m[\u001b[0;34md5/1802e9\u001b[0;2m] \u001b[0;2m\u001b[mUPPERCASE\u001b[33;2m (\u001b[0;33m1\u001b[2m)\u001b[m\u001b[2m |\u001b[m 0 of 1\u001b[K\n",
      "\u001b[2m[\u001b[0;34m-        \u001b[0;2m] \u001b[0;2m\u001b[mZIPALL        -\u001b[K\n",
      "\u001b[4A\n",
      "\u001b[2mexecutor >  local (2)\u001b[m\u001b[K\n",
      "\u001b[2m[\u001b[0;34md5/1802e9\u001b[0;2m] \u001b[0;2m\u001b[mUPPERCASE\u001b[33;2m (\u001b[0;33m1\u001b[2m)\u001b[m\u001b[2m |\u001b[m 1 of 1\u001b[32m ✔\u001b[m\u001b[K\n",
      "\u001b[2m[\u001b[0;34m06/25d0d2\u001b[0;2m] \u001b[0;2m\u001b[mZIPALL\u001b[33;2m (\u001b[0;33m1\u001b[2m)\u001b[m   \u001b[2m |\u001b[m 0 of 1\u001b[K\n",
      "\u001b[4A\n",
      "\u001b[2mexecutor >  local (2)\u001b[m\u001b[K\n",
      "\u001b[2m[\u001b[0;34md5/1802e9\u001b[0;2m] \u001b[0;2m\u001b[mUPPERCASE\u001b[33;2m (\u001b[0;33m1\u001b[2m)\u001b[m\u001b[2m |\u001b[m 1 of 1\u001b[32m ✔\u001b[m\u001b[K\n",
      "\u001b[2m[\u001b[0;34m06/25d0d2\u001b[0;2m] \u001b[0;2m\u001b[mZIPALL\u001b[33;2m (\u001b[0;33m1\u001b[2m)\u001b[m   \u001b[2m |\u001b[m 1 of 1\u001b[32m ✔\u001b[m\u001b[K\n",
      "  adding: file_uppercase.txt (stored 0%)\u001b[K\n",
      "File ziped created in: /Users/nilswaffenschmidt/waffenschmidt/notebooks/day_04/work/06/25d0d2f4a70764ff04d549f6f2d2dc\u001b[K\n",
      "File gziped created in: /Users/nilswaffenschmidt/waffenschmidt/notebooks/day_04/work/06/25d0d2f4a70764ff04d549f6f2d2dc\u001b[K\n",
      "File bziped2 created in: /Users/nilswaffenschmidt/waffenschmidt/notebooks/day_04/work/06/25d0d2f4a70764ff04d549f6f2d2dc\u001b[K\n",
      "File \u001b[K\n",
      "\u001b[K\n",
      "\n"
     ]
    }
   ],
   "source": [
    "# Task 8 - Create a process that zips the file created in the UPPERCASE process in \"zip\", \"gzip\" AND \"bzip2\" format. Print out the paths to the zipped files in the console\n",
    "!nextflow run basics_processes.nf --step 8"
   ]
  },
  {
   "cell_type": "code",
   "execution_count": 86,
   "metadata": {},
   "outputs": [
    {
     "name": "stdout",
     "output_type": "stream",
     "text": [
      "\n",
      "\u001b[1m\u001b[38;5;232m\u001b[48;5;43m N E X T F L O W \u001b[0;2m  ~  \u001b[mversion 25.04.7\u001b[m\n",
      "\u001b[K\n",
      "Launching\u001b[35m `basics_processes.nf` \u001b[0;2m[\u001b[0;1;36msleepy_coulomb\u001b[0;2m] DSL2 - \u001b[36mrevision: \u001b[0;36m6ba40e624c\u001b[m\n",
      "\u001b[K\n",
      "\u001b[2m[\u001b[0;34m-        \u001b[0;2m] \u001b[0;2m\u001b[mWRITE_FILE -\u001b[K\n",
      "\u001b[2A\n",
      "\u001b[2mexecutor >  local (1)\u001b[m\u001b[K\n",
      "\u001b[2m[\u001b[0;34m32/e46319\u001b[0;2m] \u001b[0;2m\u001b[mWRITE_FILE\u001b[2m |\u001b[m 1 of 1\u001b[32m ✔\u001b[m\u001b[K\n",
      "Wrote file: /Users/nilswaffenschmidt/waffenschmidt/notebooks/day_04/work/32/e46319e670d79eaf218ed4d7e5380e/results/names.tsv\u001b[K\n",
      "\n"
     ]
    }
   ],
   "source": [
    "# Task 9 - Create a process that reads in a list of names and titles from a channel and writes them to a file.\n",
    "#          Store the file in the \"results\" directory under the name \"names.tsv\"\n",
    "!nextflow run basics_processes.nf --step 9"
   ]
  },
  {
   "cell_type": "code",
   "execution_count": 87,
   "metadata": {},
   "outputs": [
    {
     "data": {
      "text/html": [
       "<div>\n",
       "<style scoped>\n",
       "    .dataframe tbody tr th:only-of-type {\n",
       "        vertical-align: middle;\n",
       "    }\n",
       "\n",
       "    .dataframe tbody tr th {\n",
       "        vertical-align: top;\n",
       "    }\n",
       "\n",
       "    .dataframe thead th {\n",
       "        text-align: right;\n",
       "    }\n",
       "</style>\n",
       "<table border=\"1\" class=\"dataframe\">\n",
       "  <thead>\n",
       "    <tr style=\"text-align: right;\">\n",
       "      <th></th>\n",
       "      <th>name</th>\n",
       "      <th>title</th>\n",
       "    </tr>\n",
       "  </thead>\n",
       "  <tbody>\n",
       "    <tr>\n",
       "      <th>0</th>\n",
       "      <td>Harry</td>\n",
       "      <td>student</td>\n",
       "    </tr>\n",
       "    <tr>\n",
       "      <th>1</th>\n",
       "      <td>Ron</td>\n",
       "      <td>student</td>\n",
       "    </tr>\n",
       "    <tr>\n",
       "      <th>2</th>\n",
       "      <td>Hermione</td>\n",
       "      <td>student</td>\n",
       "    </tr>\n",
       "    <tr>\n",
       "      <th>3</th>\n",
       "      <td>Albus</td>\n",
       "      <td>headmaster</td>\n",
       "    </tr>\n",
       "    <tr>\n",
       "      <th>4</th>\n",
       "      <td>Snape</td>\n",
       "      <td>teacher</td>\n",
       "    </tr>\n",
       "    <tr>\n",
       "      <th>5</th>\n",
       "      <td>Hagrid</td>\n",
       "      <td>groundkeeper</td>\n",
       "    </tr>\n",
       "    <tr>\n",
       "      <th>6</th>\n",
       "      <td>Dobby</td>\n",
       "      <td>hero</td>\n",
       "    </tr>\n",
       "  </tbody>\n",
       "</table>\n",
       "</div>"
      ],
      "text/plain": [
       "       name         title\n",
       "0     Harry       student\n",
       "1       Ron       student\n",
       "2  Hermione       student\n",
       "3     Albus    headmaster\n",
       "4     Snape       teacher\n",
       "5    Hagrid  groundkeeper\n",
       "6     Dobby          hero"
      ]
     },
     "execution_count": 87,
     "metadata": {},
     "output_type": "execute_result"
    }
   ],
   "source": [
    "import pandas as pd\n",
    "\n",
    "df = pd.read_csv(\"/Users/nilswaffenschmidt/waffenschmidt/notebooks/day_04/work/32/e46319e670d79eaf218ed4d7e5380e/results/names.tsv\", sep=\"\\t\")\n",
    "df"
   ]
  },
  {
   "cell_type": "markdown",
   "metadata": {},
   "source": [
    "## Now, let's try some more advanced Operators"
   ]
  },
  {
   "cell_type": "markdown",
   "metadata": {},
   "source": [
    "Please answer the questions in $\\texttt{advanced\\_channel\\_operations.nf}$ and run the code here. "
   ]
  },
  {
   "cell_type": "markdown",
   "metadata": {},
   "source": [
    "To come closer to actual pipelines, we introduce the concept of \"meta-maps\" which you can imagine as dictionaries that are passed with data via channels containing crucial metadata on the sample. \n",
    "\n",
    "Also, we will come back to samplesheets which you should remember from last week."
   ]
  },
  {
   "cell_type": "code",
   "execution_count": 88,
   "metadata": {},
   "outputs": [
    {
     "name": "stdout",
     "output_type": "stream",
     "text": [
      "\n",
      "\u001b[1m\u001b[38;5;232m\u001b[48;5;43m N E X T F L O W \u001b[0;2m  ~  \u001b[mversion 25.04.7\u001b[m\n",
      "\u001b[K\n",
      "Launching\u001b[35m `advanced_channel_operations.nf` \u001b[0;2m[\u001b[0;1;36mfurious_angela\u001b[0;2m] DSL2 - \u001b[36mrevision: \u001b[0;36m21ee73aef4\u001b[m\n",
      "\u001b[K\n"
     ]
    }
   ],
   "source": [
    "# Task 1 - Read in the samplesheet.\n",
    "\n",
    "!nextflow run advanced_channel_operations.nf --step 1"
   ]
  },
  {
   "cell_type": "code",
   "execution_count": null,
   "metadata": {},
   "outputs": [],
   "source": [
    "# Task 2 - Read in the samplesheet and create a meta-map with all metadata and another list with the filenames ([[metadata_1 : metadata_1, ...], [fastq_1, fastq_2]]).\n",
    "#          Set the output to a new channel \"in_ch\" and view the channel. YOU WILL NEED TO COPY AND PASTE THIS CODE INTO SOME OF THE FOLLOWING TASKS (sorry for that).\n",
    "\n",
    "!nextflow run advanced_channel_operations.nf --step 2"
   ]
  },
  {
   "cell_type": "code",
   "execution_count": null,
   "metadata": {},
   "outputs": [],
   "source": [
    "# Task 3 - Now we assume that we want to handle different \"strandedness\" values differently. \n",
    "#          Split the channel into the right amount of channels and write them all to stdout so that we can understand which is which.\n",
    "\n",
    "!nextflow run advanced_channel_operations.nf --step 3 -dump-channels"
   ]
  },
  {
   "cell_type": "code",
   "execution_count": null,
   "metadata": {},
   "outputs": [],
   "source": [
    "# Task 4 - Group together all files with the same sample-id and strandedness value.\n",
    "\n",
    "!nextflow run advanced_channel_operations.nf --step 4"
   ]
  },
  {
   "cell_type": "markdown",
   "metadata": {},
   "source": [
    "## It's finally time to link processes and channels with each other"
   ]
  },
  {
   "cell_type": "markdown",
   "metadata": {},
   "source": [
    "Please go to the file $\\texttt{link\\_p\\_c.nf}$"
   ]
  },
  {
   "cell_type": "code",
   "execution_count": null,
   "metadata": {},
   "outputs": [],
   "source": [
    "!nextflow run link_p_c.nf"
   ]
  },
  {
   "cell_type": "markdown",
   "metadata": {},
   "source": [
    "### Give a list with the paths to the chunk files"
   ]
  },
  {
   "cell_type": "code",
   "execution_count": null,
   "metadata": {},
   "outputs": [],
   "source": []
  },
  {
   "cell_type": "markdown",
   "metadata": {},
   "source": [
    "### Why was CONVERTTOUPPER run so often?"
   ]
  },
  {
   "cell_type": "code",
   "execution_count": null,
   "metadata": {},
   "outputs": [],
   "source": []
  },
  {
   "cell_type": "code",
   "execution_count": null,
   "metadata": {},
   "outputs": [],
   "source": []
  },
  {
   "cell_type": "code",
   "execution_count": null,
   "metadata": {},
   "outputs": [],
   "source": []
  },
  {
   "cell_type": "code",
   "execution_count": null,
   "metadata": {},
   "outputs": [],
   "source": []
  },
  {
   "cell_type": "code",
   "execution_count": null,
   "metadata": {},
   "outputs": [],
   "source": []
  },
  {
   "cell_type": "code",
   "execution_count": null,
   "metadata": {},
   "outputs": [],
   "source": []
  },
  {
   "cell_type": "code",
   "execution_count": null,
   "metadata": {},
   "outputs": [],
   "source": []
  },
  {
   "cell_type": "code",
   "execution_count": null,
   "metadata": {},
   "outputs": [],
   "source": []
  },
  {
   "cell_type": "code",
   "execution_count": null,
   "metadata": {},
   "outputs": [],
   "source": []
  },
  {
   "cell_type": "code",
   "execution_count": null,
   "metadata": {},
   "outputs": [],
   "source": []
  },
  {
   "cell_type": "code",
   "execution_count": null,
   "metadata": {},
   "outputs": [],
   "source": []
  },
  {
   "cell_type": "code",
   "execution_count": null,
   "metadata": {},
   "outputs": [],
   "source": []
  }
 ],
 "metadata": {
  "kernelspec": {
   "display_name": "compWorkflows",
   "language": "python",
   "name": "python3"
  },
  "language_info": {
   "codemirror_mode": {
    "name": "ipython",
    "version": 3
   },
   "file_extension": ".py",
   "mimetype": "text/x-python",
   "name": "python",
   "nbconvert_exporter": "python",
   "pygments_lexer": "ipython3",
   "version": "3.13.7"
  }
 },
 "nbformat": 4,
 "nbformat_minor": 2
}
