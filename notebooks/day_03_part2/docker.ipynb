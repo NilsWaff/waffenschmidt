{
 "cells": [
  {
   "cell_type": "markdown",
   "metadata": {},
   "source": [
    "# A short introduction to containerized software\n",
    "\n",
    "After spending time using nf-core pipelines to answer bioinformatic questions, we will focus on the processes that lie behind these pipelines now.\n",
    "\n",
    "Today, we will focus on containerization, namely via Docker. \n",
    "\n"
   ]
  },
  {
   "cell_type": "markdown",
   "metadata": {},
   "source": [
    "1. Check if Docker is installed."
   ]
  },
  {
   "cell_type": "code",
   "execution_count": 3,
   "metadata": {},
   "outputs": [
    {
     "name": "stdout",
     "output_type": "stream",
     "text": [
      "Client:\n",
      " Version:    28.4.0\n",
      " Context:    desktop-linux\n",
      " Debug Mode: false\n",
      " Plugins:\n",
      "  ai: Docker AI Agent - Ask Gordon (Docker Inc.)\n",
      "    Version:  v1.9.11\n",
      "    Path:     /Users/nilswaffenschmidt/.docker/cli-plugins/docker-ai\n",
      "  buildx: Docker Buildx (Docker Inc.)\n",
      "    Version:  v0.28.0-desktop.1\n",
      "    Path:     /Users/nilswaffenschmidt/.docker/cli-plugins/docker-buildx\n",
      "  cloud: Docker Cloud (Docker Inc.)\n",
      "    Version:  v0.4.29\n",
      "    Path:     /Users/nilswaffenschmidt/.docker/cli-plugins/docker-cloud\n",
      "  compose: Docker Compose (Docker Inc.)\n",
      "    Version:  v2.39.4-desktop.1\n",
      "    Path:     /Users/nilswaffenschmidt/.docker/cli-plugins/docker-compose\n",
      "  debug: Get a shell into any image or container (Docker Inc.)\n",
      "    Version:  0.0.42\n",
      "    Path:     /Users/nilswaffenschmidt/.docker/cli-plugins/docker-debug\n",
      "  desktop: Docker Desktop commands (Docker Inc.)\n",
      "    Version:  v0.2.0\n",
      "    Path:     /Users/nilswaffenschmidt/.docker/cli-plugins/docker-desktop\n",
      "  extension: Manages Docker extensions (Docker Inc.)\n",
      "    Version:  v0.2.31\n",
      "    Path:     /Users/nilswaffenschmidt/.docker/cli-plugins/docker-extension\n",
      "  init: Creates Docker-related starter files for your project (Docker Inc.)\n",
      "    Version:  v1.4.0\n",
      "    Path:     /Users/nilswaffenschmidt/.docker/cli-plugins/docker-init\n",
      "  mcp: Docker MCP Plugin (Docker Inc.)\n",
      "    Version:  v0.21.0\n",
      "    Path:     /Users/nilswaffenschmidt/.docker/cli-plugins/docker-mcp\n",
      "  model: Docker Model Runner (Docker Inc.)\n",
      "    Version:  v0.1.41\n",
      "    Path:     /Users/nilswaffenschmidt/.docker/cli-plugins/docker-model\n",
      "  sbom: View the packaged-based Software Bill Of Materials (SBOM) for an image (Anchore Inc.)\n",
      "    Version:  0.6.0\n",
      "    Path:     /Users/nilswaffenschmidt/.docker/cli-plugins/docker-sbom\n",
      "  scout: Docker Scout (Docker Inc.)\n",
      "    Version:  v1.18.3\n",
      "    Path:     /Users/nilswaffenschmidt/.docker/cli-plugins/docker-scout\n",
      "\n",
      "Server:\n",
      " Containers: 2\n",
      "  Running: 0\n",
      "  Paused: 0\n",
      "  Stopped: 2\n",
      " Images: 11\n",
      " Server Version: 28.4.0\n",
      " Storage Driver: overlayfs\n",
      "  driver-type: io.containerd.snapshotter.v1\n",
      " Logging Driver: json-file\n",
      " Cgroup Driver: cgroupfs\n",
      " Cgroup Version: 2\n",
      " Plugins:\n",
      "  Volume: local\n",
      "  Network: bridge host ipvlan macvlan null overlay\n",
      "  Log: awslogs fluentd gcplogs gelf journald json-file local splunk syslog\n",
      " CDI spec directories:\n",
      "  /etc/cdi\n",
      "  /var/run/cdi\n",
      " Swarm: inactive\n",
      " Runtimes: io.containerd.runc.v2 runc\n",
      " Default Runtime: runc\n",
      " Init Binary: docker-init\n",
      " containerd version: 05044ec0a9a75232cad458027ca83437aae3f4da\n",
      " runc version: v1.2.5-0-g59923ef\n",
      " init version: de40ad0\n",
      " Security Options:\n",
      "  seccomp\n",
      "   Profile: builtin\n",
      "  cgroupns\n",
      " Kernel Version: 6.10.14-linuxkit\n",
      " Operating System: Docker Desktop\n",
      " OSType: linux\n",
      " Architecture: aarch64\n",
      " CPUs: 8\n",
      " Total Memory: 3.828GiB\n",
      " Name: docker-desktop\n",
      " ID: a0586f5b-4d28-4e1c-8407-775e37f62ceb\n",
      " Docker Root Dir: /var/lib/docker\n",
      " Debug Mode: false\n",
      " HTTP Proxy: http.docker.internal:3128\n",
      " HTTPS Proxy: http.docker.internal:3128\n",
      " No Proxy: hubproxy.docker.internal\n",
      " Labels:\n",
      "  com.docker.desktop.address=unix:///Users/nilswaffenschmidt/Library/Containers/com.docker.docker/Data/docker-cli.sock\n",
      " Experimental: false\n",
      " Insecure Registries:\n",
      "  hubproxy.docker.internal:5555\n",
      "  ::1/128\n",
      "  127.0.0.0/8\n",
      " Live Restore Enabled: false\n",
      "\n"
     ]
    }
   ],
   "source": [
    "!docker info"
   ]
  },
  {
   "cell_type": "markdown",
   "metadata": {},
   "source": [
    "### What is a container?"
   ]
  },
  {
   "cell_type": "markdown",
   "metadata": {},
   "source": [
    "A container is a standard unit of software that packages up code and all its dependencies so the application runs quickly and reliably from one computing environment to another. It integrates with our operating system."
   ]
  },
  {
   "cell_type": "markdown",
   "metadata": {},
   "source": [
    "### Why do we use containers?"
   ]
  },
  {
   "cell_type": "markdown",
   "metadata": {},
   "source": []
  },
  {
   "cell_type": "markdown",
   "metadata": {},
   "source": [
    "### What is a docker image?"
   ]
  },
  {
   "cell_type": "markdown",
   "metadata": {},
   "source": [
    "An image is a snapshot/blueprint of an environment, while a container runs the software."
   ]
  },
  {
   "cell_type": "markdown",
   "metadata": {},
   "source": [
    "### Let's run our first docker image:"
   ]
  },
  {
   "cell_type": "markdown",
   "metadata": {},
   "source": [
    "### Login to docker"
   ]
  },
  {
   "cell_type": "code",
   "execution_count": null,
   "metadata": {},
   "outputs": [],
   "source": [
    "# This you need to do on the command line directly"
   ]
  },
  {
   "cell_type": "markdown",
   "metadata": {},
   "source": [
    "### Run your first docker container"
   ]
  },
  {
   "cell_type": "code",
   "execution_count": 14,
   "metadata": {},
   "outputs": [
    {
     "name": "stdout",
     "output_type": "stream",
     "text": [
      "\n",
      "Hello from Docker!\n",
      "This message shows that your installation appears to be working correctly.\n",
      "\n",
      "To generate this message, Docker took the following steps:\n",
      " 1. The Docker client contacted the Docker daemon.\n",
      " 2. The Docker daemon pulled the \"hello-world\" image from the Docker Hub.\n",
      "    (arm64v8)\n",
      " 3. The Docker daemon created a new container from that image which runs the\n",
      "    executable that produces the output you are currently reading.\n",
      " 4. The Docker daemon streamed that output to the Docker client, which sent it\n",
      "    to your terminal.\n",
      "\n",
      "To try something more ambitious, you can run an Ubuntu container with:\n",
      " $ docker run -it ubuntu bash\n",
      "\n",
      "Share images, automate workflows, and more with a free Docker ID:\n",
      " https://hub.docker.com/\n",
      "\n",
      "For more examples and ideas, visit:\n",
      " https://docs.docker.com/get-started/\n",
      "\n"
     ]
    }
   ],
   "source": [
    "!docker run hello-world"
   ]
  },
  {
   "cell_type": "markdown",
   "metadata": {},
   "source": [
    "### Find the container ID"
   ]
  },
  {
   "cell_type": "code",
   "execution_count": 15,
   "metadata": {},
   "outputs": [
    {
     "name": "stdout",
     "output_type": "stream",
     "text": [
      "CONTAINER ID   IMAGE         COMMAND    CREATED         STATUS                     PORTS     NAMES\n",
      "c4c4c9cfb4d8   hello-world   \"/hello\"   2 seconds ago   Exited (0) 2 seconds ago             busy_rhodes\n"
     ]
    }
   ],
   "source": [
    "!docker ps -a"
   ]
  },
  {
   "cell_type": "markdown",
   "metadata": {},
   "source": [
    "Container ID: c4c4c9cfb4d8"
   ]
  },
  {
   "cell_type": "markdown",
   "metadata": {},
   "source": [
    "### Delete the container again, give prove its deleted"
   ]
  },
  {
   "cell_type": "code",
   "execution_count": 16,
   "metadata": {},
   "outputs": [
    {
     "name": "stdout",
     "output_type": "stream",
     "text": [
      "c4c4c9cfb4d8\n"
     ]
    }
   ],
   "source": [
    "!docker rm c4c4c9cfb4d8"
   ]
  },
  {
   "cell_type": "code",
   "execution_count": 17,
   "metadata": {},
   "outputs": [
    {
     "name": "stdout",
     "output_type": "stream",
     "text": [
      "CONTAINER ID   IMAGE     COMMAND   CREATED   STATUS    PORTS     NAMES\n"
     ]
    }
   ],
   "source": [
    "!docker ps -a"
   ]
  },
  {
   "cell_type": "markdown",
   "metadata": {},
   "source": [
    "### FASTQC is a very useful tool as you've learned last week. Let's try and run it from command line\n",
    "\n",
    "Link to the software: https://www.bioinformatics.babraham.ac.uk/projects/fastqc/"
   ]
  },
  {
   "cell_type": "markdown",
   "metadata": {},
   "source": [
    "Please describe the steps you took to download and run the software for the example fastq file from last week below:"
   ]
  },
  {
   "cell_type": "markdown",
   "metadata": {},
   "source": [
    "1. conda install fastqc in my compWorkflows environemnt\n",
    "2. Run fastqc:\n",
    "- fastqc /Users/nilswaffenschmidt/waffenschmidt/notebooks/day_02/SRFetch_results/fastq/SRX19144486_SRR23195516_1.fastq.gz -o /Users/nilswaffenschmidt/waffenschmidt/notebooks/day_03_part2/fastqc/out_manual"
   ]
  },
  {
   "cell_type": "markdown",
   "metadata": {},
   "source": [
    "### Very well, now let's try to make use of its docker container\n",
    "\n",
    "1. create a container holding fastqc using seqera containers (https://seqera.io/containers/)\n",
    "2. use the container to generate a fastqc html of the example fastq file"
   ]
  },
  {
   "cell_type": "code",
   "execution_count": 18,
   "metadata": {},
   "outputs": [
    {
     "name": "stdout",
     "output_type": "stream",
     "text": [
      "0.12.1--df99cb252670875a: Pulling from library/fastqc\n",
      "\n",
      "\u001b[1B3aff702f: Pulling fs layer \n",
      "\u001b[1B1cea1cef: Pulling fs layer \n",
      "\u001b[1B7eaf45ee: Pulling fs layer \n",
      "\u001b[1Baa1775d5: Pulling fs layer \n",
      "\u001b[1Bb097362e: Pulling fs layer \n",
      "\u001b[1Bec52b9bc: Pulling fs layer \n",
      "\u001b[1Bb700ef54: Pulling fs layer \n",
      "\u001b[1Bd9429ba0: Pulling fs layer \n",
      "\u001b[1Bb42d3e8c: Pulling fs layer \n",
      "\u001b[1Bb7fce560: Pulling fs layer \n",
      "\u001b[1Ba9b42924: Pulling fs layer \n",
      "\u001b[1Bcb05818e: Pulling fs layer \n",
      "\u001b[13BDigest: sha256:165cd46d83246bdfa071321e07f2b40ea5895197e46d314dc3c85f145db9bea5\u001b[2K\u001b[11A\u001b[2K\u001b[13A\u001b[2K\u001b[13A\u001b[2K\u001b[9A\u001b[2K\u001b[13A\u001b[2K\u001b[13A\u001b[2K\u001b[13A\u001b[2K\u001b[13A\u001b[2K\u001b[13A\u001b[2K\u001b[13A\u001b[2K\u001b[1A\u001b[2K\u001b[13A\u001b[2K\u001b[13A\u001b[2K\u001b[2A\u001b[2K\u001b[13A\u001b[2K\u001b[2A\u001b[2K\u001b[2A\u001b[2K\u001b[1A\u001b[2K\u001b[13A\u001b[2K\u001b[2A\u001b[2K\u001b[2A\u001b[2K\u001b[1A\u001b[2K\u001b[2A\u001b[2K\u001b[2A\u001b[2K\u001b[2A\u001b[2K\u001b[2A\u001b[2K\u001b[13A\u001b[2K\u001b[2A\u001b[2K\u001b[2A\u001b[2K\u001b[2A\u001b[2K\u001b[2A\u001b[2K\u001b[2A\u001b[2K\u001b[13A\u001b[2K\u001b[13A\u001b[2K\u001b[2A\u001b[2K\u001b[13A\u001b[2K\u001b[2A\u001b[2K\u001b[2A\u001b[2K\u001b[13A\u001b[2K\u001b[13A\u001b[2K\u001b[13A\u001b[2K\u001b[2A\u001b[2K\u001b[2A\u001b[2K\u001b[13A\u001b[2K\u001b[2A\u001b[2K\u001b[2A\u001b[2K\u001b[13A\u001b[2K\u001b[2A\u001b[2K\u001b[2A\u001b[2K\u001b[13A\u001b[2K\u001b[13A\u001b[2K\u001b[2A\u001b[2K\u001b[2A\u001b[2K\u001b[2A\u001b[2K\u001b[13A\u001b[2K\u001b[2A\u001b[2K\u001b[13A\u001b[2K\u001b[13A\u001b[2K\u001b[2A\u001b[2K\u001b[2A\u001b[2K\u001b[2A\u001b[2K\u001b[2A\u001b[2K\u001b[13A\u001b[2K\u001b[13A\u001b[2K\u001b[2A\u001b[2K\u001b[2A\u001b[2K\u001b[13A\u001b[2K\u001b[13A\u001b[2K\u001b[13A\u001b[2K\u001b[13A\u001b[2K\u001b[2A\u001b[2K\u001b[13A\u001b[2K\u001b[2A\u001b[2K\u001b[13A\u001b[2K\u001b[2A\u001b[2K\u001b[13A\u001b[2K\u001b[2A\u001b[2K\u001b[2A\u001b[2K\u001b[2A\u001b[2K\u001b[2A\u001b[2K\u001b[13A\u001b[2K\u001b[13A\u001b[2K\u001b[2A\u001b[2K\u001b[2A\u001b[2K\u001b[13A\u001b[2K\u001b[13A\u001b[2K\u001b[13A\u001b[2K\u001b[13A\u001b[2K\u001b[13A\u001b[2K\u001b[2A\u001b[2K\u001b[13A\u001b[2K\u001b[13A\u001b[2K\u001b[2A\u001b[2K\u001b[13A\u001b[2K\u001b[13A\u001b[2K\u001b[2A\u001b[2K\u001b[2A\u001b[2K\u001b[13A\u001b[2K\u001b[2A\u001b[2K\u001b[13A\u001b[2K\u001b[13A\u001b[2K\u001b[13A\u001b[2K\u001b[13A\u001b[2K\u001b[13A\u001b[2K\u001b[13A\u001b[2K\u001b[13A\u001b[2K\u001b[13A\u001b[2K\u001b[13A\u001b[2K\u001b[13A\u001b[2K\u001b[13A\u001b[2K\u001b[13A\u001b[2K\u001b[13A\u001b[2K\u001b[13A\u001b[2K\u001b[13A\u001b[2K\u001b[13A\u001b[2K\u001b[13A\u001b[2K\u001b[13A\u001b[2K\u001b[13A\u001b[2K\u001b[13A\u001b[2K\u001b[13A\u001b[2K\u001b[13A\u001b[2K\u001b[13A\u001b[2K\u001b[13A\u001b[2K\u001b[13A\u001b[2K\u001b[13A\u001b[2K\u001b[13A\u001b[2K\u001b[13A\u001b[2K\u001b[13A\u001b[2K\u001b[13A\u001b[2K\u001b[13A\u001b[2K\u001b[13A\u001b[2K\u001b[13A\u001b[2K\u001b[13A\u001b[2K\u001b[13A\u001b[2K\u001b[13A\u001b[2K\u001b[13A\u001b[2K\u001b[13A\u001b[2K\u001b[13A\u001b[2K\u001b[13A\u001b[2K\u001b[13A\u001b[2K\u001b[13A\u001b[2K\u001b[13A\u001b[2K\u001b[13A\u001b[2K\u001b[13A\u001b[2K\u001b[13A\u001b[2K\u001b[13A\u001b[2K\u001b[13A\u001b[2K\u001b[13A\u001b[2K\u001b[13A\u001b[2K\u001b[13A\u001b[2K\u001b[13A\u001b[2K\u001b[13A\u001b[2K\u001b[13A\u001b[2K\u001b[13A\u001b[2K\u001b[13A\u001b[2K\u001b[13A\u001b[2K\u001b[13A\u001b[2K\u001b[13A\u001b[2K\u001b[13A\u001b[2K\u001b[13A\u001b[2K\u001b[13A\u001b[2K\u001b[13A\u001b[2K\u001b[13A\u001b[2K\u001b[13A\u001b[2K\u001b[13A\u001b[2K\u001b[13A\u001b[2K\u001b[13A\u001b[2K\u001b[13A\u001b[2K\u001b[13A\u001b[2K\u001b[13A\u001b[2K\u001b[13A\u001b[2K\u001b[13A\u001b[2K\u001b[13A\u001b[2K\u001b[13A\u001b[2K\u001b[13A\u001b[2K\u001b[13A\u001b[2K\u001b[13A\u001b[2K\u001b[13A\u001b[2K\u001b[13A\u001b[2K\u001b[13A\u001b[2K\u001b[13A\u001b[2K\u001b[13A\u001b[2K\u001b[13A\u001b[2K\u001b[13A\u001b[2K\u001b[13A\u001b[2K\u001b[13A\u001b[2K\u001b[13A\u001b[2K\u001b[13A\u001b[2K\u001b[13A\u001b[2K\u001b[13A\u001b[2K\u001b[13A\u001b[2K\u001b[13A\u001b[2K\u001b[13A\u001b[2K\u001b[13A\u001b[2K\u001b[13A\u001b[2K\u001b[13A\u001b[2K\u001b[13A\u001b[2K\u001b[13A\u001b[2K\u001b[13A\u001b[2K\u001b[13A\u001b[2K\u001b[13A\u001b[2K\u001b[13A\u001b[2K\u001b[13A\u001b[2K\u001b[13A\u001b[2K\u001b[13A\u001b[2K\u001b[13A\u001b[2K\u001b[13A\u001b[2K\u001b[13A\u001b[2K\u001b[13A\u001b[2K\u001b[13A\u001b[2K\u001b[13A\u001b[2K\u001b[13A\u001b[2K\u001b[13A\u001b[2K\u001b[13A\u001b[2K\u001b[13A\u001b[2K\u001b[13A\u001b[2K\u001b[13A\u001b[2K\u001b[13A\u001b[2K\u001b[13A\u001b[2K\u001b[13A\u001b[2K\u001b[13A\u001b[2K\u001b[13A\u001b[2K\u001b[13A\u001b[2K\u001b[13A\u001b[2K\u001b[13A\u001b[2K\u001b[13A\u001b[2K\u001b[13A\u001b[2K\u001b[13A\u001b[2K\u001b[13A\u001b[2K\u001b[13A\u001b[2K\u001b[13A\u001b[2K\u001b[13A\u001b[2K\u001b[13A\u001b[2K\u001b[13A\u001b[2K\u001b[13A\u001b[2K\u001b[13A\u001b[2K\u001b[13A\u001b[2K\u001b[13A\u001b[2K\u001b[13A\u001b[2K\u001b[13A\u001b[2K\u001b[13A\u001b[2K\u001b[13A\u001b[2K\u001b[13A\u001b[2K\u001b[13A\u001b[2K\u001b[13A\u001b[2K\u001b[13A\u001b[2K\u001b[13A\u001b[2K\u001b[13A\u001b[2K\u001b[13A\u001b[2K\u001b[13A\u001b[2K\u001b[13A\u001b[2K\u001b[13A\u001b[2K\u001b[13A\u001b[2K\u001b[13A\u001b[2K\u001b[13A\u001b[2K\u001b[13A\u001b[2K\u001b[13A\u001b[2K\u001b[13A\u001b[2K\u001b[13A\u001b[2K\u001b[13A\u001b[2K\u001b[13A\u001b[2K\u001b[13A\u001b[2K\u001b[13A\u001b[2K\u001b[13A\u001b[2K\u001b[13A\u001b[2K\u001b[13A\u001b[2K\u001b[13A\u001b[2K\u001b[13A\u001b[2K\u001b[13A\u001b[2K\u001b[13A\u001b[2K\u001b[13A\u001b[2K\u001b[13A\u001b[2K\u001b[13A\u001b[2K\u001b[13A\u001b[2K\u001b[13A\u001b[2K\u001b[13A\u001b[2K\u001b[13A\u001b[2K\u001b[13A\u001b[2K\u001b[13A\u001b[2K\u001b[13A\u001b[2K\u001b[13A\u001b[2K\u001b[13A\u001b[2K\u001b[13A\u001b[2K\u001b[13A\u001b[2K\u001b[13A\u001b[2K\u001b[13A\u001b[2K\u001b[13A\u001b[2K\u001b[13A\u001b[2K\u001b[13A\u001b[2K\u001b[13A\u001b[2K\u001b[13A\u001b[2K\u001b[13A\u001b[2K\u001b[13A\u001b[2K\u001b[13A\u001b[2K\u001b[13A\u001b[2K\u001b[13A\u001b[2K\u001b[13A\u001b[2K\u001b[13A\u001b[2K\u001b[13A\u001b[2K\u001b[13A\u001b[2K\u001b[13A\u001b[2K\u001b[13A\u001b[2K\u001b[13A\u001b[2K\u001b[13A\u001b[2K\u001b[13A\u001b[2K\u001b[13A\u001b[2K\u001b[13A\u001b[2K\u001b[13A\u001b[2K\u001b[13A\u001b[2K\u001b[13A\u001b[2K\u001b[13A\u001b[2K\u001b[13A\u001b[2K\u001b[13A\u001b[2K\u001b[13A\u001b[2K\u001b[13A\u001b[2K\u001b[13A\u001b[2K\u001b[13A\u001b[2K\n",
      "Status: Downloaded newer image for community.wave.seqera.io/library/fastqc:0.12.1--df99cb252670875a\n",
      "community.wave.seqera.io/library/fastqc:0.12.1--df99cb252670875a\n"
     ]
    }
   ],
   "source": [
    "# pull the container\n",
    "!docker pull community.wave.seqera.io/library/fastqc:0.12.1--df99cb252670875a"
   ]
  },
  {
   "cell_type": "code",
   "execution_count": 23,
   "metadata": {},
   "outputs": [
    {
     "name": "stdout",
     "output_type": "stream",
     "text": [
      "application/gzip\n",
      "Started analysis of SRX19144486_SRR23195516_1.fastq.gz\n",
      "Approx 5% complete for SRX19144486_SRR23195516_1.fastq.gz\n",
      "Approx 10% complete for SRX19144486_SRR23195516_1.fastq.gz\n",
      "Approx 15% complete for SRX19144486_SRR23195516_1.fastq.gz\n",
      "Approx 20% complete for SRX19144486_SRR23195516_1.fastq.gz\n",
      "Approx 25% complete for SRX19144486_SRR23195516_1.fastq.gz\n",
      "Approx 30% complete for SRX19144486_SRR23195516_1.fastq.gz\n",
      "Approx 35% complete for SRX19144486_SRR23195516_1.fastq.gz\n",
      "Approx 40% complete for SRX19144486_SRR23195516_1.fastq.gz\n",
      "Approx 45% complete for SRX19144486_SRR23195516_1.fastq.gz\n",
      "Approx 50% complete for SRX19144486_SRR23195516_1.fastq.gz\n",
      "Approx 55% complete for SRX19144486_SRR23195516_1.fastq.gz\n",
      "Approx 60% complete for SRX19144486_SRR23195516_1.fastq.gz\n",
      "Approx 65% complete for SRX19144486_SRR23195516_1.fastq.gz\n",
      "Approx 70% complete for SRX19144486_SRR23195516_1.fastq.gz\n",
      "Approx 75% complete for SRX19144486_SRR23195516_1.fastq.gz\n",
      "Approx 80% complete for SRX19144486_SRR23195516_1.fastq.gz\n",
      "Approx 85% complete for SRX19144486_SRR23195516_1.fastq.gz\n",
      "Approx 90% complete for SRX19144486_SRR23195516_1.fastq.gz\n",
      "Approx 95% complete for SRX19144486_SRR23195516_1.fastq.gz\n",
      "Analysis complete for SRX19144486_SRR23195516_1.fastq.gz\n"
     ]
    }
   ],
   "source": [
    "# run the container and save the results to a new \"fastqc_results\" directory\n",
    "!docker run -v /Users/nilswaffenschmidt/waffenschmidt/notebooks:/data community.wave.seqera.io/library/fastqc:0.12.1--df99cb252670875a fastqc /data/day_02/SRFetch_results/fastq/SRX19144486_SRR23195516_1.fastq.gz -o /data/day_03_part2/fastqc/out_docker\n"
   ]
  },
  {
   "cell_type": "markdown",
   "metadata": {},
   "source": [
    "### Now that you know how to use a docker container, which approach was easier and which approach will be easier in the future?"
   ]
  },
  {
   "cell_type": "markdown",
   "metadata": {},
   "source": [
    "After one gets used to how to mount and stuff, then maybe doing it with the help of containers might be easier."
   ]
  },
  {
   "cell_type": "markdown",
   "metadata": {},
   "source": [
    "### What would you say, which approach is more reproducible?"
   ]
  },
  {
   "cell_type": "markdown",
   "metadata": {},
   "source": [
    "Containers, obviously!"
   ]
  },
  {
   "cell_type": "markdown",
   "metadata": {},
   "source": [
    "### Compare the file to last weeks fastqc results, are they identical?\n",
    "### Is the fastqc version identical?"
   ]
  },
  {
   "cell_type": "markdown",
   "metadata": {},
   "source": [
    "Yes identical, but versions are also the same."
   ]
  },
  {
   "cell_type": "markdown",
   "metadata": {},
   "source": [
    "## Dockerfiles\n",
    "\n",
    "We now used Docker containers and images directly to boost our research. \n",
    "\n",
    "Let's create our own toy Dockerfile including the \"cowsay\" tool (https://en.wikipedia.org/wiki/Cowsay)\n",
    "\n",
    "Hints:\n",
    "1. Docker is Linux, so you need to know the apt-get command to install \"cowsay\""
   ]
  },
  {
   "cell_type": "code",
   "execution_count": 34,
   "metadata": {},
   "outputs": [],
   "source": [
    "# open the file \"my_dockerfile\" in a text editor\n",
    "# -> Done manually in the file!"
   ]
  },
  {
   "cell_type": "markdown",
   "metadata": {},
   "source": [
    "### Explain the RUN and ENV lines you added to the file"
   ]
  },
  {
   "cell_type": "markdown",
   "metadata": {},
   "source": [
    "- RUN apt-get update && \\\n",
    "    apt-get install -y cowsay && \\\n",
    "    apt-get install -y curl\n",
    "\n",
    "- ENV PATH=\"/usr/games:${PATH}\"\n",
    "\n",
    "-> RUN: Update amd install cowsay in linux environemnt\n",
    "\n",
    "-> ENV: Add the path /usr/games/ to the current path to make sure programs installed at this address (which is common) are found. This is searched first before th rest of the path is searched for the program."
   ]
  },
  {
   "cell_type": "code",
   "execution_count": 28,
   "metadata": {},
   "outputs": [
    {
     "name": "stdout",
     "output_type": "stream",
     "text": [
      "\u001b[1A\u001b[1B\u001b[0G\u001b[?25l[+] Building 0.0s (0/1)                                    docker:desktop-linux\n",
      "\u001b[?25h\u001b[1A\u001b[0G\u001b[?25l[+] Building 0.2s (1/2)                                    docker:desktop-linux\n",
      "\u001b[34m => [internal] load build definition from my_dockerfile                    0.0s\n",
      "\u001b[0m\u001b[34m => => transferring dockerfile: 877B                                       0.0s\n",
      "\u001b[0m => [internal] load metadata for docker.io/library/debian:bullseye-slim    0.2s\n",
      "\u001b[?25h\u001b[1A\u001b[1A\u001b[1A\u001b[1A\u001b[0G\u001b[?25l[+] Building 0.3s (1/2)                                    docker:desktop-linux\n",
      "\u001b[34m => [internal] load build definition from my_dockerfile                    0.0s\n",
      "\u001b[0m\u001b[34m => => transferring dockerfile: 877B                                       0.0s\n",
      "\u001b[0m => [internal] load metadata for docker.io/library/debian:bullseye-slim    0.3s\n",
      "\u001b[?25h\u001b[1A\u001b[1A\u001b[1A\u001b[1A\u001b[0G\u001b[?25l[+] Building 0.5s (1/2)                                    docker:desktop-linux\n",
      "\u001b[34m => [internal] load build definition from my_dockerfile                    0.0s\n",
      "\u001b[0m\u001b[34m => => transferring dockerfile: 877B                                       0.0s\n",
      "\u001b[0m => [internal] load metadata for docker.io/library/debian:bullseye-slim    0.5s\n",
      "\u001b[?25h\u001b[1A\u001b[1A\u001b[1A\u001b[1A\u001b[0G\u001b[?25l[+] Building 0.6s (2/2)                                    docker:desktop-linux\n",
      "\u001b[34m => [internal] load build definition from my_dockerfile                    0.0s\n",
      "\u001b[0m\u001b[34m => => transferring dockerfile: 877B                                       0.0s\n",
      "\u001b[0m\u001b[34m => [internal] load metadata for docker.io/library/debian:bullseye-slim    0.6s\n",
      "\u001b[0m\u001b[?25h\u001b[1A\u001b[1A\u001b[1A\u001b[1A\u001b[0G\u001b[?25l[+] Building 0.7s (6/6) FINISHED                           docker:desktop-linux\n",
      "\u001b[34m => [internal] load build definition from my_dockerfile                    0.0s\n",
      "\u001b[0m\u001b[34m => => transferring dockerfile: 877B                                       0.0s\n",
      "\u001b[0m\u001b[34m => [internal] load metadata for docker.io/library/debian:bullseye-slim    0.6s\n",
      "\u001b[0m\u001b[34m => [internal] load .dockerignore                                          0.0s\n",
      "\u001b[0m\u001b[34m => => transferring context: 2B                                            0.0s\n",
      "\u001b[0m\u001b[34m => [1/2] FROM docker.io/library/debian:bullseye-slim@sha256:f807f4b16002  0.0s\n",
      "\u001b[0m\u001b[34m => => resolve docker.io/library/debian:bullseye-slim@sha256:f807f4b16002  0.0s\n",
      "\u001b[0m\u001b[34m => CACHED [2/2] RUN apt-get update &&     apt-get install -y cowsay &&    0.0s\n",
      "\u001b[0m\u001b[34m => exporting to image                                                     0.1s\n",
      "\u001b[0m\u001b[34m => => exporting layers                                                    0.0s\n",
      "\u001b[0m\u001b[34m => => exporting manifest sha256:eadb3cf669d5414ce004f2b5699a24d3661ad691  0.0s\n",
      "\u001b[0m\u001b[34m => => exporting config sha256:dfab2c8639dc0fbf358d19dd42b3f07a7c85fde235  0.0s\n",
      "\u001b[0m\u001b[34m => => exporting attestation manifest sha256:414d36e54c15b6a63ffcde78b8be  0.0s\n",
      "\u001b[0m\u001b[34m => => exporting manifest list sha256:e2864083e2e603104b301ff28926601e1cb  0.0s\n",
      "\u001b[0m\u001b[34m => => naming to docker.io/library/my-cowsay-image:latest                  0.0s\n",
      "\u001b[0m\u001b[34m => => unpacking to docker.io/library/my-cowsay-image:latest               0.0s\n",
      "\u001b[0m\u001b[?25h\n",
      " \u001b[33m2 warnings found (use docker --debug to expand):\n",
      "\u001b[0m - LegacyKeyValueFormat: \"LABEL key=value\" should be used instead of legacy \"LABEL key value\" format (line 5)\n",
      " - LegacyKeyValueFormat: \"LABEL key=value\" should be used instead of legacy \"LABEL key value\" format (line 6)\n"
     ]
    }
   ],
   "source": [
    "# build the docker image\n",
    "!docker build -f my_dockerfile -t my-cowsay-image ."
   ]
  },
  {
   "cell_type": "code",
   "execution_count": null,
   "metadata": {},
   "outputs": [
    {
     "name": "stdout",
     "output_type": "stream",
     "text": [
      "REPOSITORY                                                 TAG                        IMAGE ID       CREATED         SIZE\n",
      "my-cowsay-image                                            latest                     e2864083e2e6   2 minutes ago   220MB\n",
      "hello-world                                                latest                     54e66cc1dd1f   7 weeks ago     16.9kB\n",
      "community.wave.seqera.io/library/fastqc                    0.12.1--df99cb252670875a   165cd46d8324   11 months ago   1.38GB\n",
      "quay.io/biocontainers/r-shinyngs                           1.8.8--r43hdfd78af_0       e0de72408557   17 months ago   1.99GB\n",
      "quay.io/biocontainers/atlas-gene-annotation-manipulation   1.1.1--hdfd78af_0          099d0e113ec8   18 months ago   1.82GB\n",
      "quay.io/nf-core/ubuntu                                     20.04                      59e9d08d8dc1   2 years ago     110MB\n",
      "quay.io/biocontainers/pandas                               1.5.2                      cbb54fcf8730   2 years ago     493MB\n",
      "quay.io/biocontainers/gsea                                 4.3.2--hdfd78af_0          0010041fff53   2 years ago     849MB\n",
      "quay.io/biocontainers/r-base                               4.2.1                      6721ee8bfba2   2 years ago     1.17GB\n",
      "quay.io/biocontainers/p7zip                                16.02                      731aaeef376a   3 years ago     47.7MB\n",
      "quay.io/biocontainers/python                               3.9--1                     d97d2b329b4e   4 years ago     275MB\n",
      "quay.io/biocontainers/gawk                                 5.1.0                      9d300f3d0a35   5 years ago     53.4MB\n",
      "quay.io/biocontainers/bioconductor-deseq2                  1.34.0--r41hc247a5b_3      c06884d353ef   55 years ago    452MB\n",
      "quay.io/biocontainers/wget                                 1.20.1                     7e5ba9e87a25   55 years ago    26.9MB\n"
     ]
    }
   ],
   "source": [
    "# make sure that the image has been built\n",
    "!docker images "
   ]
  },
  {
   "cell_type": "code",
   "execution_count": 33,
   "metadata": {},
   "outputs": [
    {
     "name": "stdout",
     "output_type": "stream",
     "text": [
      " ___________________________\n",
      "< Julian ist der allerbeste >\n",
      " ---------------------------\n",
      "        \\   ^__^\n",
      "         \\  (oo)\\_______\n",
      "            (__)\\       )\\/\\\n",
      "                ||----w |\n",
      "                ||     ||\n"
     ]
    }
   ],
   "source": [
    "# run the docker file \n",
    "!docker run my-cowsay-image cowsay \"Julian ist der allerbeste\""
   ]
  },
  {
   "cell_type": "markdown",
   "metadata": {},
   "source": [
    "## Let's do some bioinformatics with the docker file and create a new docker file that holds the salmon tool used in rnaseq\n",
    "\n",
    "To do so, use \"curl\" in your new dockerfile to get salmon from https://github.com/COMBINE-lab/salmon/releases/download/v1.5.2/salmon-1.5.2_linux_x86_64.tar.gz"
   ]
  },
  {
   "cell_type": "code",
   "execution_count": null,
   "metadata": {
    "vscode": {
     "languageId": "shellscript"
    }
   },
   "outputs": [],
   "source": [
    "# use the file \"salmon_docker\" in this directory to build a new docker image\n"
   ]
  },
  {
   "cell_type": "code",
   "execution_count": null,
   "metadata": {
    "vscode": {
     "languageId": "shellscript"
    }
   },
   "outputs": [],
   "source": [
    "# build the image\n"
   ]
  },
  {
   "cell_type": "code",
   "execution_count": 1,
   "metadata": {
    "vscode": {
     "languageId": "shellscript"
    }
   },
   "outputs": [],
   "source": [
    "# run the docker image to give out the version of salmon\n"
   ]
  },
  {
   "cell_type": "markdown",
   "metadata": {},
   "source": [
    "## Do you think bioinformaticians have to create a docker image every time they want to run a tool?\n",
    "\n",
    "Find the salmon docker image online and run it on your computer.\n",
    "\n",
    "What is https://biocontainers.pro/ ?"
   ]
  },
  {
   "cell_type": "markdown",
   "metadata": {},
   "source": [
    "## Are there other ways to create Docker (or Apptainer) images?\n",
    "\n",
    "What is https://seqera.io/containers/ ?"
   ]
  }
 ],
 "metadata": {
  "kernelspec": {
   "display_name": "compWorkflows",
   "language": "python",
   "name": "python3"
  },
  "language_info": {
   "codemirror_mode": {
    "name": "ipython",
    "version": 3
   },
   "file_extension": ".py",
   "mimetype": "text/x-python",
   "name": "python",
   "nbconvert_exporter": "python",
   "pygments_lexer": "ipython3",
   "version": "3.13.7"
  }
 },
 "nbformat": 4,
 "nbformat_minor": 2
}
